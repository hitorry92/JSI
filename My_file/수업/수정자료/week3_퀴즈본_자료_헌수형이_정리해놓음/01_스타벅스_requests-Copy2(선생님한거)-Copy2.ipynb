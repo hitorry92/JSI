{
 "cells": [
  {
   "cell_type": "markdown",
   "id": "c06cbb1d",
   "metadata": {},
   "source": [
    "### [requests] 스타벅스 매장 위치 데이터 크롤링하기\n",
    "- https://syudal.tistory.com/entry/Crawling-%EC%8A%A4%ED%83%80%EB%B2%85%EC%8A%A4-%EB%A7%A4%EC%9E%A5-%EC%9C%84%EC%B9%98-%EB%8D%B0%EC%9D%B4%ED%84%B0-%ED%81%AC%EB%A1%A4%EB%A7%81%ED%95%98%EA%B8%B0"
   ]
  },
  {
   "cell_type": "code",
   "execution_count": null,
   "id": "bc653747",
   "metadata": {},
   "outputs": [],
   "source": [
    "import math\n",
    "import random\n",
    "import requests\n",
    "import pandas as pd"
   ]
  },
  {
   "cell_type": "code",
   "execution_count": null,
   "id": "383ef157",
   "metadata": {},
   "outputs": [],
   "source": [
    "chars = \"0123456789ABCDEFGHIKLMNOPQRSTUVWXYZ\";\n",
    "string_length = 10;\n",
    "randomstring = '';\n",
    "for i in range(0, string_length):\n",
    "    rnum = int(math.floor(random.random() * len(chars)));\n",
    "    randomstring += chars[rnum : rnum+1];\n",
    "randomstring"
   ]
  },
  {
   "cell_type": "code",
   "execution_count": null,
   "id": "37f30234",
   "metadata": {},
   "outputs": [],
   "source": [
    "def randomString():\n",
    "    chars = \"0123456789ABCDEFGHIKLMNOPQRSTUVWXYZ\";\n",
    "    string_length = 10;\n",
    "    randomstring = '';\n",
    "    for i in range(0, string_length):\n",
    "        rnum = int(math.floor(random.random() * len(chars)));\n",
    "        randomstring += chars[rnum : rnum+1];\n",
    "    \n",
    "    return randomstring"
   ]
  },
  {
   "cell_type": "code",
   "execution_count": null,
   "id": "61466d21",
   "metadata": {},
   "outputs": [],
   "source": [
    "url = 'https://www.starbucks.co.kr/store/getGugunList.do'\n",
    "gugunlist = [[]]\n",
    "\n",
    "for i in range(1, 18):\n",
    "    datas = {\n",
    "                'sido_cd': str(i).zfill(2)\n",
    "            }\n",
    "    response = requests.post(url, data=datas).json()"
   ]
  },
  {
   "cell_type": "code",
   "execution_count": null,
   "id": "24a50018",
   "metadata": {},
   "outputs": [],
   "source": [
    "url = 'https://www.starbucks.co.kr/store/getGugunList.do'\n",
    "gugunlist = [[]]\n",
    "for i in range(1, 18): #17개의 시군구를 담음\n",
    "    datas = {\n",
    "        'sido_cd': str(i).zfill(2)\n",
    "    }\n",
    "    response = requests.post(url, data=datas).json()\n",
    "\n",
    "    for j in range(0, len(response['list'])):\n",
    "        gugunlist[i-1].append(response['list'][j])\n",
    "\n",
    "    gugunlist.append([])"
   ]
  },
  {
   "cell_type": "code",
   "execution_count": null,
   "id": "899369e8",
   "metadata": {},
   "outputs": [],
   "source": [
    "gugunlist[0]"
   ]
  },
  {
   "cell_type": "code",
   "execution_count": null,
   "id": "4b10cb1d",
   "metadata": {},
   "outputs": [],
   "source": [
    "def getGugunList():\n",
    "    url = 'https://www.starbucks.co.kr/store/getGugunList.do'\n",
    "    gugunlist = [[]]\n",
    "    for i in range(1, 18): #17개의 시군구를 담음\n",
    "        datas = {\n",
    "            'sido_cd': str(i).zfill(2)\n",
    "        }\n",
    "        response = requests.post(url, data=datas).json()\n",
    "\n",
    "        for j in range(0, len(response['list'])):\n",
    "            gugunlist[i-1].append(response['list'][j])\n",
    "\n",
    "        gugunlist.append([])\n",
    "    return gugunlist"
   ]
  },
  {
   "cell_type": "code",
   "execution_count": null,
   "id": "ac71203a",
   "metadata": {},
   "outputs": [],
   "source": [
    "def getStore(p_gugun_cd, p_sido_cd):\n",
    "    randomStr = randomString()\n",
    "    url = 'https://www.starbucks.co.kr/store/getStore.do?r=' + randomStr\n",
    "    datas = {\n",
    "        'P10': 0,\n",
    "        'P20': 0,\n",
    "        'P30': 0,\n",
    "        'P40': 0,\n",
    "        'P50': 0,\n",
    "        'P60': 0,\n",
    "        'P70': 0,\n",
    "        'P80': 0,\n",
    "        'P90': 0,\n",
    "        'T01': 0,\n",
    "        'T03': 0,\n",
    "        'T05': 0,\n",
    "        'T09': 0,\n",
    "        'T10': 0,\n",
    "        'T12': 0,\n",
    "        'T21': 0,\n",
    "        'T22': 0,\n",
    "        'T27': 0,\n",
    "        'T30': 0,\n",
    "        'T36': 0,\n",
    "        'T43': 0,\n",
    "        'T48': 0,\n",
    "        'all_store': 0,\n",
    "        'iend': \"100\",\n",
    "        'in_biz_cd': \"\",\n",
    "        'in_biz_cds': 0,\n",
    "        'in_distance': 0,\n",
    "        'in_scodes': 0,\n",
    "        'ins_lat': 37.0,\n",
    "        'ins_lng': 126.0,\n",
    "        'isError': True,\n",
    "        'new_bool': 0,\n",
    "        'p_gugun_cd': p_gugun_cd,\n",
    "        'p_sido_cd': p_sido_cd,\n",
    "        'rndCod': randomStr,\n",
    "        'searchType': \"C\",\n",
    "        'search_text': \"\",\n",
    "        'set_date': \"\",\n",
    "        'whcroad_yn': 0  \n",
    "    }\n",
    "    response = requests.post(url, data=datas).json()\n",
    "    return response;"
   ]
  },
  {
   "cell_type": "code",
   "execution_count": null,
   "id": "487c4fff",
   "metadata": {},
   "outputs": [],
   "source": [
    "Gugun = getGugunList()"
   ]
  },
  {
   "cell_type": "code",
   "execution_count": null,
   "id": "64d64a10",
   "metadata": {},
   "outputs": [],
   "source": [
    "Gugun"
   ]
  },
  {
   "cell_type": "code",
   "execution_count": null,
   "id": "b797f54d",
   "metadata": {},
   "outputs": [],
   "source": [
    "result = []"
   ]
  },
  {
   "cell_type": "code",
   "execution_count": null,
   "id": "5ff365a5",
   "metadata": {},
   "outputs": [],
   "source": [
    "#for i in range(0, 1):\n",
    "#    for j in range(0, 1):\n",
    "for i in range(0, len(Gugun)):\n",
    "    for j in range(0, len(Gugun[i])):\n",
    "        Store = getStore(Gugun[i][j]['gugun_cd'], Gugun[i][j]['gugun_cd'][0:2])\n",
    "        Store = Store['list']\n",
    "        for k in range(0, len(Store)):\n",
    "            savedata = {\n",
    "                'sido_name': Store[k]['sido_name'],\n",
    "                'gugun_name': Store[k]['gugun_name'],\n",
    "                'sido_code': Store[k]['sido_code'],\n",
    "                'gugun_code': Store[k]['gugun_code'],\n",
    "                'addr': Store[k]['addr'],\n",
    "                'doro_address': Store[k]['doro_address'],\n",
    "                's_code': Store[k]['s_code'],\n",
    "                's_name': Store[k]['s_name'],\n",
    "                'open_dt': Store[k]['open_dt'],\n",
    "                'lat': Store[k]['lat'],\n",
    "                'lot': Store[k]['lot'],\n",
    "                's_biz_code': Store[k]['s_biz_code'],\n",
    "                'store_area_code': Store[k]['store_area_code'],\n",
    "                'out_distance': Store[k]['out_distance'],\n",
    "                'defaultimage': 'http://image.istarbucks.co.kr'+Store[k]['defaultimage']\n",
    "            }\n",
    "            result.append(savedata)"
   ]
  },
  {
   "cell_type": "code",
   "execution_count": null,
   "id": "11e24792",
   "metadata": {},
   "outputs": [],
   "source": [
    "Store[0]"
   ]
  },
  {
   "cell_type": "code",
   "execution_count": null,
   "id": "b84985e1",
   "metadata": {},
   "outputs": [],
   "source": [
    "selectdata = pd.DataFrame(result)"
   ]
  },
  {
   "cell_type": "code",
   "execution_count": null,
   "id": "4b9726ee",
   "metadata": {
    "scrolled": true
   },
   "outputs": [],
   "source": [
    "selectdata#[selectdata['s_name']=='역삼이마트']['defaultimage'].values"
   ]
  },
  {
   "cell_type": "code",
   "execution_count": null,
   "id": "483982a6",
   "metadata": {},
   "outputs": [],
   "source": []
  },
  {
   "cell_type": "code",
   "execution_count": null,
   "id": "630b5a1f",
   "metadata": {},
   "outputs": [],
   "source": [
    "selectdata.to_csv(\"data/starbucks.csv\")"
   ]
  },
  {
   "cell_type": "markdown",
   "id": "f9d70bfc",
   "metadata": {},
   "source": [
    "## 방법2. csv_to_table(교재 10.5.1 참고)"
   ]
  },
  {
   "cell_type": "code",
   "execution_count": null,
   "id": "bcb9c4a4",
   "metadata": {},
   "outputs": [],
   "source": [
    "import pandas as pd\n",
    "import pymysql"
   ]
  },
  {
   "cell_type": "code",
   "execution_count": null,
   "id": "dd14e8ea",
   "metadata": {},
   "outputs": [],
   "source": [
    "df=pd.read_csv('data/starbucks.csv')"
   ]
  },
  {
   "cell_type": "code",
   "execution_count": null,
   "id": "8e46acb3",
   "metadata": {
    "scrolled": true
   },
   "outputs": [],
   "source": [
    "df.info()"
   ]
  },
  {
   "cell_type": "code",
   "execution_count": null,
   "id": "55f212e0",
   "metadata": {
    "scrolled": false
   },
   "outputs": [],
   "source": [
    "# df['gugun_name'].isnull().sum()\n",
    "df['gugun_name']"
   ]
  },
  {
   "cell_type": "code",
   "execution_count": null,
   "id": "c0362547",
   "metadata": {
    "scrolled": true
   },
   "outputs": [],
   "source": [
    "# df[df['gugun_name'].isnull()]\n",
    "df=df.fillna(value='')\n",
    "df[df['sido_name']=='세종']\n",
    "df"
   ]
  },
  {
   "cell_type": "code",
   "execution_count": null,
   "id": "e69e85b5",
   "metadata": {},
   "outputs": [],
   "source": [
    "for i in df.columns:\n",
    "    i = df[f\"{i}\"]\n",
    "    print(i)"
   ]
  },
  {
   "cell_type": "code",
   "execution_count": null,
   "id": "aae49c7c",
   "metadata": {},
   "outputs": [],
   "source": [
    "sido_name = df['sido_name']\n",
    "gugun_name = df['gugun_name']\n",
    "sido_code = df['sido_code']\n",
    "gugun_code = df['gugun_code']\n",
    "addr = df['addr']\n",
    "doro_address = df['doro_address']\n",
    "s_code = df['s_code']\n",
    "s_name = df['s_name']\n",
    "open_dt = df['open_dt']\n",
    "lat = df['lat']\n",
    "lot = df['lot']\n",
    "s_biz_code = df['s_biz_code']\n",
    "store_area_code = df['store_area_code']\n",
    "out_distance = df['out_distance']\n",
    "defaultimage = df['defaultimage']"
   ]
  },
  {
   "cell_type": "code",
   "execution_count": null,
   "id": "e960ac63",
   "metadata": {},
   "outputs": [],
   "source": [
    "config = {\n",
    "    'host' : '127.0.0.1',\n",
    "    'user' : 'root',\n",
    "    'password' : '1234',\n",
    "    'database' : 'work',\n",
    "    'port' : 3306,\n",
    "    'charset' : 'utf8',\n",
    "    'use_unicode' : True\n",
    "}\n",
    "conn = pymysql.connect(**config)\n",
    "cursor = conn.cursor()\n",
    "    \n",
    "# table 조회\n",
    "cursor.execute(\"show tables\")\n",
    "tables = cursor.fetchall()\n",
    "\n",
    "sql = \"\"\"create table star_tab(\n",
    "    sido_name TEXT NULL,\n",
    "    gugun_name TEXT NULL,\n",
    "    s_name TEXT NULL,    \n",
    "    doro_address TEXT NULL,\n",
    "    open_dt BIGINT(20) NULL DEFAULT NULL\n",
    "    )\"\"\"\n",
    "cursor.execute(sql)"
   ]
  },
  {
   "cell_type": "code",
   "execution_count": null,
   "id": "a1b64a57",
   "metadata": {},
   "outputs": [],
   "source": [
    "for i in range(0,len(df)):\n",
    "    sql = \"\"\"insert into star_tab(sido_name, gugun_name, s_name, doro_address, open_dt) \\\n",
    "            values(%s, %s, %s, %s, %s)\"\"\"\n",
    "    val = (df.iloc[i,0], df.iloc[i,1], df.iloc[i,2], df.iloc[i,3], df.iloc[i,4])\n",
    "    cursor.execute(sql,val)\n",
    "    conn.commit()"
   ]
  },
  {
   "cell_type": "code",
   "execution_count": null,
   "id": "b86906c2",
   "metadata": {
    "scrolled": true
   },
   "outputs": [],
   "source": [
    "cursor.execute(\"select * from star_tab\")\n",
    "rows = cursor.fetchall()\n",
    "rows"
   ]
  },
  {
   "cell_type": "code",
   "execution_count": null,
   "id": "2f9ddc1b",
   "metadata": {},
   "outputs": [],
   "source": [
    "if rows : # 레코드 있는 경우 : 레코드 조회\n",
    "    for row in rows :\n",
    "        for i in range(0,len(rows[0])):\n",
    "            print(f\"{row[i]}\", end = ' ')\n",
    "        print(f\"\\n\")\n",
    "    print('전체 레코드 수 : ', len(rows))\n",
    "    \n",
    "else : # 레코드 없는 경우 : 레코드 추가\n",
    "    len_df = len(df) \n",
    "    print(f\"{len_df} : 레코드 추가\")\n",
    "    for i in range(0, len(df)):\n",
    "        sql = \"\"\"INSERT ignore INTO star_tab \\\n",
    "        (sido_code, gugun_code, s_code, doro_address, open_dt) \\\n",
    "        VALUES (%s, %s, %s, %s, %s)\"\"\"\n",
    "        val = (df.iloc[i,0], df.iloc[i,1], df.iloc[i,2], df.iloc[i,3],\n",
    "               df.iloc[i,4])\n",
    "        cursor.execute(sql, val)\n",
    "        conn.commit()"
   ]
  },
  {
   "cell_type": "code",
   "execution_count": null,
   "id": "368d74ca",
   "metadata": {},
   "outputs": [],
   "source": [
    "cursor.close()\n",
    "conn.close() "
   ]
  },
  {
   "cell_type": "code",
   "execution_count": null,
   "id": "e1023545",
   "metadata": {},
   "outputs": [],
   "source": [
    "#     addr TEXT NULL,\n",
    "#     s_code BIGINT(20) NULL DEFAULT NULL,\n",
    "#     sido_code BIGINT(20) NULL DEFAULT NULL,\n",
    "#     lat DOUBLE NULL DEFAULT NULL,\n",
    "#     lot DOUBLE NULL DEFAULT NULL,\n",
    "#     gugun_code BIGINT(20) NULL DEFAULT NULL,\n",
    "#     s_biz_code BIGINT(20) NULL DEFAULT NULL,\n",
    "#     store_area_code TEXT NULL,\n",
    "#     out_distance DOUBLE NULL DEFAULT NULL,\n",
    "#     defaultimage TEXT NULL"
   ]
  },
  {
   "cell_type": "code",
   "execution_count": null,
   "id": "83ffa19a",
   "metadata": {},
   "outputs": [],
   "source": [
    "!where python"
   ]
  },
  {
   "cell_type": "code",
   "execution_count": null,
   "id": "76a4c148",
   "metadata": {},
   "outputs": [],
   "source": []
  }
 ],
 "metadata": {
  "kernelspec": {
   "display_name": "Python 3 (ipykernel)",
   "language": "python",
   "name": "python3"
  },
  "language_info": {
   "codemirror_mode": {
    "name": "ipython",
    "version": 3
   },
   "file_extension": ".py",
   "mimetype": "text/x-python",
   "name": "python",
   "nbconvert_exporter": "python",
   "pygments_lexer": "ipython3",
   "version": "3.9.7"
  },
  "toc": {
   "base_numbering": 1,
   "nav_menu": {},
   "number_sections": true,
   "sideBar": true,
   "skip_h1_title": false,
   "title_cell": "Table of Contents",
   "title_sidebar": "Contents",
   "toc_cell": false,
   "toc_position": {},
   "toc_section_display": true,
   "toc_window_display": false
  }
 },
 "nbformat": 4,
 "nbformat_minor": 5
}
