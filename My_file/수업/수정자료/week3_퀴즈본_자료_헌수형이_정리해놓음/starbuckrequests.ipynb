{
 "cells": [
  {
   "cell_type": "markdown",
   "id": "c06cbb1d",
   "metadata": {},
   "source": [
    "### [requests] 스타벅스 매장 위치 데이터 크롤링하기\n",
    "- https://syudal.tistory.com/entry/Crawling-%EC%8A%A4%ED%83%80%EB%B2%85%EC%8A%A4-%EB%A7%A4%EC%9E%A5-%EC%9C%84%EC%B9%98-%EB%8D%B0%EC%9D%B4%ED%84%B0-%ED%81%AC%EB%A1%A4%EB%A7%81%ED%95%98%EA%B8%B0"
   ]
  },
  {
   "cell_type": "code",
   "execution_count": null,
   "id": "bc653747",
   "metadata": {},
   "outputs": [],
   "source": [
    "import math\n",
    "import random\n",
    "import requests\n",
    "import pandas as pd"
   ]
  },
  {
   "cell_type": "code",
   "execution_count": null,
   "id": "37f30234",
   "metadata": {},
   "outputs": [],
   "source": [
    "def randomString():\n",
    "    chars = \"0123456789ABCDEFGHIKLMNOPQRSTUVWXYZ\";\n",
    "    string_length = 10;\n",
    "    randomstring = '';\n",
    "    for i in range(0, string_length):\n",
    "        rnum = int(math.floor(random.random() * len(chars)));\n",
    "        randomstring += chars[rnum : rnum+1];\n",
    "    \n",
    "    return randomstring"
   ]
  },
  {
   "cell_type": "code",
   "execution_count": null,
   "id": "2a0ca6e9-b6c5-438e-ac80-7d5dda4395af",
   "metadata": {},
   "outputs": [],
   "source": [
    "rands = randomString()\n",
    "print(rands)"
   ]
  },
  {
   "cell_type": "code",
   "execution_count": null,
   "id": "76d1dba7-26b9-40b4-bd41-074bf565fc34",
   "metadata": {},
   "outputs": [],
   "source": [
    "# url = 'https://www.starbucks.co.kr/store/getGugunList.do'\n",
    "# datas = {\n",
    "#             'sido_cd': str(1).zfill(2) # f'{i:02d}'\n",
    "#         }\n",
    "# response = requests.post(url, data=datas).json()\n",
    "# response"
   ]
  },
  {
   "cell_type": "code",
   "execution_count": null,
   "id": "4b10cb1d",
   "metadata": {},
   "outputs": [],
   "source": [
    "def getGugunList():\n",
    "    url = 'https://www.starbucks.co.kr/store/getGugunList.do'\n",
    "    gugunlist = [[]]\n",
    "    for i in range(1, 18): #17개의 시군구를 담음\n",
    "        datas = {\n",
    "            'sido_cd': str(i).zfill(2) # f'{i:02d}'\n",
    "        }\n",
    "        response = requests.post(url, data=datas).json()\n",
    "\n",
    "        for j in range(0, len(response['list'])):\n",
    "            gugunlist[i-1].append(response['list'][j])\n",
    "\n",
    "        gugunlist.append([])\n",
    "    return gugunlist"
   ]
  },
  {
   "cell_type": "code",
   "execution_count": null,
   "id": "7237ab80-6c7c-4483-9bd5-231e5bf8bb7e",
   "metadata": {},
   "outputs": [],
   "source": [
    "# randomStr = randomString()\n",
    "# url = 'https://www.starbucks.co.kr/store/getStore.do?r=' + randomStr\n",
    "# datas = {\n",
    "#     'P10': 0,\n",
    "#     'P20': 0,\n",
    "#     'P30': 0,\n",
    "#     'P40': 0,\n",
    "#     'P50': 0,\n",
    "#     'P60': 0,\n",
    "#     'P70': 0,\n",
    "#     'P80': 0,\n",
    "#     'P90': 0,\n",
    "#     'T01': 0,\n",
    "#     'T03': 0,\n",
    "#     'T05': 0,\n",
    "#     'T09': 0,\n",
    "#     'T10': 0,\n",
    "#     'T12': 0,\n",
    "#     'T21': 0,\n",
    "#     'T22': 0,\n",
    "#     'T27': 0,\n",
    "#     'T30': 0,\n",
    "#     'T36': 0,\n",
    "#     'T43': 0,\n",
    "#     'T48': 0,\n",
    "#     'all_store': 0,\n",
    "#     'iend': \"100\",\n",
    "#     'in_biz_cd': \"\",\n",
    "#     'in_biz_cds': 0,\n",
    "#     'in_distance': 0,\n",
    "#     'in_scodes': 0,\n",
    "#     'ins_lat': 37.0,\n",
    "#     'ins_lng': 126.0,\n",
    "#     'isError': True,\n",
    "#     'new_bool': 0,\n",
    "#     'p_gugun_cd': '0101',\n",
    "#     'p_sido_cd': '01',\n",
    "#     'rndCod': randomStr,\n",
    "#     'searchType': \"C\",\n",
    "#     'search_text': \"\",\n",
    "#     'set_date': \"\",\n",
    "#     'whcroad_yn': 0  \n",
    "# }\n",
    "# response = requests.post(url, data=datas).json()\n",
    "# response"
   ]
  },
  {
   "cell_type": "code",
   "execution_count": null,
   "id": "ac71203a",
   "metadata": {},
   "outputs": [],
   "source": [
    "def getStore(p_gugun_cd, p_sido_cd):\n",
    "    randomStr = randomString()\n",
    "    url = 'https://www.starbucks.co.kr/store/getStore.do?r=' + randomStr\n",
    "    datas = {\n",
    "        'P10': 0,\n",
    "        'P20': 0,\n",
    "        'P30': 0,\n",
    "        'P40': 0,\n",
    "        'P50': 0,\n",
    "        'P60': 0,\n",
    "        'P70': 0,\n",
    "        'P80': 0,\n",
    "        'P90': 0,\n",
    "        'T01': 0,\n",
    "        'T03': 0,\n",
    "        'T05': 0,\n",
    "        'T09': 0,\n",
    "        'T10': 0,\n",
    "        'T12': 0,\n",
    "        'T21': 0,\n",
    "        'T22': 0,\n",
    "        'T27': 0,\n",
    "        'T30': 0,\n",
    "        'T36': 0,\n",
    "        'T43': 0,\n",
    "        'T48': 0,\n",
    "        'all_store': 0,\n",
    "        'iend': \"100\",\n",
    "        'in_biz_cd': \"\",\n",
    "        'in_biz_cds': 0,\n",
    "        'in_distance': 0,\n",
    "        'in_scodes': 0,\n",
    "        'ins_lat': 37.0,\n",
    "        'ins_lng': 126.0,\n",
    "        'isError': True,\n",
    "        'new_bool': 0,\n",
    "        'p_gugun_cd': p_gugun_cd,\n",
    "        'p_sido_cd': p_sido_cd,\n",
    "        'rndCod': randomStr,\n",
    "        'searchType': \"C\",\n",
    "        'search_text': \"\",\n",
    "        'set_date': \"\",\n",
    "        'whcroad_yn': 0  \n",
    "    }\n",
    "    response = requests.post(url, data=datas).json()\n",
    "    return response;"
   ]
  },
  {
   "cell_type": "code",
   "execution_count": null,
   "id": "487c4fff",
   "metadata": {},
   "outputs": [],
   "source": [
    "Gugun = getGugunList()"
   ]
  },
  {
   "cell_type": "code",
   "execution_count": null,
   "id": "64d64a10",
   "metadata": {},
   "outputs": [],
   "source": [
    "Gugun"
   ]
  },
  {
   "cell_type": "code",
   "execution_count": null,
   "id": "b797f54d",
   "metadata": {},
   "outputs": [],
   "source": [
    "result = []"
   ]
  },
  {
   "cell_type": "code",
   "execution_count": null,
   "id": "5ff365a5",
   "metadata": {},
   "outputs": [],
   "source": [
    "#for i in range(0, 1):\n",
    "#    for j in range(0, 1):\n",
    "for i in range(0, len(Gugun)):\n",
    "    for j in range(0, len(Gugun[i])):\n",
    "        Store = getStore(Gugun[i][j]['gugun_cd'], Gugun[i][j]['gugun_cd'][0:2])\n",
    "        Store = Store['list']\n",
    "        for k in range(0, len(Store)):\n",
    "            savedata = {\n",
    "                'sido_name': Store[k]['sido_name'],\n",
    "                'gugun_name': Store[k]['gugun_name'],\n",
    "                'sido_code': Store[k]['sido_code'],\n",
    "                'gugun_code': Store[k]['gugun_code'],\n",
    "                'addr': Store[k]['addr'],\n",
    "                'doro_address': Store[k]['doro_address'],\n",
    "                's_code': Store[k]['s_code'],\n",
    "                's_name': Store[k]['s_name'],\n",
    "                'open_dt': Store[k]['open_dt'],\n",
    "                'lat': Store[k]['lat'],\n",
    "                'lot': Store[k]['lot'],\n",
    "                's_biz_code': Store[k]['s_biz_code'],\n",
    "                'store_area_code': Store[k]['store_area_code'],\n",
    "                'out_distance': Store[k]['out_distance'],\n",
    "                'defaultimage': 'http://image.istarbucks.co.kr'+Store[k]['defaultimage']\n",
    "            }\n",
    "            result.append(savedata)"
   ]
  },
  {
   "cell_type": "code",
   "execution_count": null,
   "id": "11e24792",
   "metadata": {},
   "outputs": [],
   "source": [
    "Store[0]"
   ]
  },
  {
   "cell_type": "code",
   "execution_count": null,
   "id": "b84985e1",
   "metadata": {},
   "outputs": [],
   "source": [
    "selectdata = pd.DataFrame(result)"
   ]
  },
  {
   "cell_type": "code",
   "execution_count": null,
   "id": "4b9726ee",
   "metadata": {},
   "outputs": [],
   "source": [
    "selectdata"
   ]
  },
  {
   "cell_type": "code",
   "execution_count": null,
   "id": "630b5a1f",
   "metadata": {},
   "outputs": [],
   "source": [
    "# selectdata[selectdata['s_name']=='역삼이마트']['defaultimage'].values"
   ]
  },
  {
   "cell_type": "code",
   "execution_count": null,
   "id": "16168069-01bc-41f5-a357-d05d9334c21b",
   "metadata": {},
   "outputs": [],
   "source": [
    "# selectdata.to_csv('data/스타벅스_requests.csv', encoding='utf-8')"
   ]
  },
  {
   "cell_type": "code",
   "execution_count": null,
   "id": "4b4c2a73-b699-4d42-bfe6-e111c82a1fff",
   "metadata": {},
   "outputs": [],
   "source": [
    "selectdata.info()"
   ]
  },
  {
   "cell_type": "code",
   "execution_count": null,
   "id": "a02f7361-953a-4910-a08d-fe1a56aeb685",
   "metadata": {},
   "outputs": [],
   "source": [
    "selectdata.columns"
   ]
  },
  {
   "cell_type": "code",
   "execution_count": null,
   "id": "ba87dac4-b0c4-4d2b-a3ef-d0eef316fc46",
   "metadata": {},
   "outputs": [],
   "source": [
    "import pymysql\n",
    "import mariadb\n",
    "from sqlalchemy import create_engine"
   ]
  },
  {
   "cell_type": "code",
   "execution_count": null,
   "id": "5170f22f-5650-4d26-ba18-eec5a1dab643",
   "metadata": {},
   "outputs": [],
   "source": [
    "conn = mariadb.connect(\n",
    "        user=\"root\",\n",
    "        password=\"1234\",\n",
    "        host=\"192.168.0.120\",\n",
    "        port=3306,\n",
    "        database=\"work\"\n",
    ")"
   ]
  },
  {
   "cell_type": "code",
   "execution_count": null,
   "id": "ae591773-b767-44dd-9f3b-03559a18725f",
   "metadata": {},
   "outputs": [],
   "source": [
    "cursor = conn.cursor()"
   ]
  },
  {
   "cell_type": "markdown",
   "id": "88a8dc9e-5ef1-4598-bf58-81b5917c6c14",
   "metadata": {},
   "source": [
    "#### 새로운 테이블 생성"
   ]
  },
  {
   "cell_type": "code",
   "execution_count": null,
   "id": "148d0ef2-8f2a-466a-ab2c-8f8036c93db6",
   "metadata": {},
   "outputs": [],
   "source": [
    "query = \"CREATE TABLE starbucks (sido_name text, gugun_name text, sido_code text, gugun_code text, addr text,\\\n",
    "       doro_address text, s_code varchar(10), s_name text, open_dt text, lat text, lot text, s_biz_code text,\\\n",
    "       store_area_code text, out_distance text, defaultimage text, primary key (s_code))\"\n",
    "cursor.execute(query)\n",
    "conn.commit()"
   ]
  },
  {
   "cell_type": "markdown",
   "id": "cae8091a-f32a-4fee-bda8-57ced238f0dd",
   "metadata": {},
   "source": [
    "#### 데이터 db에 업로드"
   ]
  },
  {
   "cell_type": "code",
   "execution_count": null,
   "id": "4d690260-40ec-4f53-8aba-c26469548e29",
   "metadata": {},
   "outputs": [],
   "source": [
    "for idx, row in selectdata.iterrows():\n",
    "    query_insert = \"\"\"INSERT INTO starbucks \\\n",
    "                   (sido_name, gugun_name, sido_code, gugun_code, addr, doro_address, s_code, s_name, open_dt, lat, lot, s_biz_code, store_area_code, out_distance, defaultimage)\\\n",
    "                   VALUES (%s, %s, %s, %s, %s, %s, %s, %s, %s, %s, %s, %s, %s, %s, %s)\"\"\"\n",
    "    values = (\n",
    "        row['sido_name'],\n",
    "        row['gugun_name'],\n",
    "        row['sido_code'],\n",
    "        row['gugun_code'],\n",
    "        row['addr'],\n",
    "        row['doro_address'],\n",
    "        row['s_code'],\n",
    "        row['s_name'],\n",
    "        row['open_dt'],\n",
    "        row['lat'],\n",
    "        row['lot'],\n",
    "        row['s_biz_code'],\n",
    "        row['store_area_code'],\n",
    "        row['out_distance'],\n",
    "        row['defaultimage']\n",
    "    )\n",
    "    cursor.execute(query_insert, values)\n",
    "conn.commit()"
   ]
  },
  {
   "cell_type": "markdown",
   "id": "ba889a32-558d-4123-9200-9b85365ed583",
   "metadata": {},
   "source": [
    "#### 새로운 데이터만 추가"
   ]
  },
  {
   "cell_type": "code",
   "execution_count": null,
   "id": "f44f29ad-e83e-4225-8b64-621b89f1798a",
   "metadata": {},
   "outputs": [],
   "source": [
    "for idx, row in selectdata.iterrows():\n",
    "    query_update = \"\"\"INSERT IGNORE INTO starbucks \\\n",
    "                   (sido_name, gugun_name, sido_code, gugun_code, addr, doro_address, s_code, s_name, open_dt, lat, lot, s_biz_code, store_area_code, out_distance, defaultimage)\\\n",
    "                   VALUES (%s, %s, %s, %s, %s, %s, %s, %s, %s, %s, %s, %s, %s, %s, %s)\"\"\"\n",
    "    values = (\n",
    "        row['sido_name'],\n",
    "        row['gugun_name'],\n",
    "        row['sido_code'],\n",
    "        row['gugun_code'],\n",
    "        row['addr'],\n",
    "        row['doro_address'],\n",
    "        row['s_code'],\n",
    "        row['s_name'],\n",
    "        row['open_dt'],\n",
    "        row['lat'],\n",
    "        row['lot'],\n",
    "        row['s_biz_code'],\n",
    "        row['store_area_code'],\n",
    "        row['out_distance'],\n",
    "        row['defaultimage']\n",
    "    )\n",
    "    cursor.execute(query_update, values)\n",
    "conn.commit()"
   ]
  },
  {
   "cell_type": "code",
   "execution_count": null,
   "id": "87577c30-4366-4028-aa58-df2b58528530",
   "metadata": {},
   "outputs": [],
   "source": [
    "conn.close()"
   ]
  },
  {
   "cell_type": "code",
   "execution_count": null,
   "id": "3a625574-acd6-4c80-b0f4-548f41c4e325",
   "metadata": {},
   "outputs": [],
   "source": [
    "!where python"
   ]
  },
  {
   "cell_type": "code",
   "execution_count": null,
   "id": "8b7908ab-6418-4d01-a75d-1a93000f9fb9",
   "metadata": {},
   "outputs": [],
   "source": []
  }
 ],
 "metadata": {
  "kernelspec": {
   "display_name": "Python 3 (ipykernel)",
   "language": "python",
   "name": "python3"
  },
  "language_info": {
   "codemirror_mode": {
    "name": "ipython",
    "version": 3
   },
   "file_extension": ".py",
   "mimetype": "text/x-python",
   "name": "python",
   "nbconvert_exporter": "python",
   "pygments_lexer": "ipython3",
   "version": "3.9.7"
  },
  "toc": {
   "base_numbering": 1,
   "nav_menu": {},
   "number_sections": true,
   "sideBar": true,
   "skip_h1_title": false,
   "title_cell": "Table of Contents",
   "title_sidebar": "Contents",
   "toc_cell": false,
   "toc_position": {},
   "toc_section_display": true,
   "toc_window_display": false
  }
 },
 "nbformat": 4,
 "nbformat_minor": 5
}
