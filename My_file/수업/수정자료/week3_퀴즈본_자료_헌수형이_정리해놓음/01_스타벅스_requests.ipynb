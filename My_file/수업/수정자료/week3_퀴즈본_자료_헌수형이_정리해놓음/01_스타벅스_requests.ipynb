{
 "cells": [
  {
   "cell_type": "markdown",
   "id": "c06cbb1d",
   "metadata": {},
   "source": [
    "### [requests] 스타벅스 매장 위치 데이터 크롤링하기\n",
    "- https://syudal.tistory.com/entry/Crawling-%EC%8A%A4%ED%83%80%EB%B2%85%EC%8A%A4-%EB%A7%A4%EC%9E%A5-%EC%9C%84%EC%B9%98-%EB%8D%B0%EC%9D%B4%ED%84%B0-%ED%81%AC%EB%A1%A4%EB%A7%81%ED%95%98%EA%B8%B0"
   ]
  },
  {
   "cell_type": "code",
   "execution_count": null,
   "id": "bc653747",
   "metadata": {},
   "outputs": [],
   "source": [
    "import math\n",
    "import random\n",
    "import requests\n",
    "import pandas as pd"
   ]
  },
  {
   "cell_type": "code",
   "execution_count": null,
   "id": "37f30234",
   "metadata": {},
   "outputs": [],
   "source": [
    "def randomString():\n",
    "    chars = \"0123456789ABCDEFGHIKLMNOPQRSTUVWXYZ\";\n",
    "    string_length = 10;\n",
    "    randomstring = '';\n",
    "    for i in range(0, string_length):\n",
    "        rnum = int(math.floor(random.random() * len(chars)));\n",
    "        randomstring += chars[rnum : rnum+1];\n",
    "    \n",
    "    return randomstring"
   ]
  },
  {
   "cell_type": "code",
   "execution_count": null,
   "id": "4b10cb1d",
   "metadata": {},
   "outputs": [],
   "source": [
    "def getGugunList():\n",
    "    url = 'https://www.starbucks.co.kr/store/getGugunList.do'\n",
    "    gugunlist = [[]]\n",
    "    for i in range(1, 18): #17개의 시군구를 담음\n",
    "        datas = {\n",
    "            'sido_cd': str(i).zfill(2)\n",
    "        }\n",
    "        response = requests.post(url, data=datas).json()\n",
    "\n",
    "        for j in range(0, len(response['list'])):\n",
    "            gugunlist[i-1].append(response['list'][j])\n",
    "\n",
    "        gugunlist.append([])\n",
    "    return gugunlist"
   ]
  },
  {
   "cell_type": "code",
   "execution_count": null,
   "id": "ac71203a",
   "metadata": {},
   "outputs": [],
   "source": [
    "def getStore(p_gugun_cd, p_sido_cd):\n",
    "    randomStr = randomString()\n",
    "    url = 'https://www.starbucks.co.kr/store/getStore.do?r=' + randomStr\n",
    "    datas = {\n",
    "        'P10': 0,\n",
    "        'P20': 0,\n",
    "        'P30': 0,\n",
    "        'P40': 0,\n",
    "        'P50': 0,\n",
    "        'P60': 0,\n",
    "        'P70': 0,\n",
    "        'P80': 0,\n",
    "        'P90': 0,\n",
    "        'T01': 0,\n",
    "        'T03': 0,\n",
    "        'T05': 0,\n",
    "        'T09': 0,\n",
    "        'T10': 0,\n",
    "        'T12': 0,\n",
    "        'T21': 0,\n",
    "        'T22': 0,\n",
    "        'T27': 0,\n",
    "        'T30': 0,\n",
    "        'T36': 0,\n",
    "        'T43': 0,\n",
    "        'T48': 0,\n",
    "        'all_store': 0,\n",
    "        'iend': \"100\",\n",
    "        'in_biz_cd': \"\",\n",
    "        'in_biz_cds': 0,\n",
    "        'in_distance': 0,\n",
    "        'in_scodes': 0,\n",
    "        'ins_lat': 37.0,\n",
    "        'ins_lng': 126.0,\n",
    "        'isError': True,\n",
    "        'new_bool': 0,\n",
    "        'p_gugun_cd': p_gugun_cd,\n",
    "        'p_sido_cd': p_sido_cd,\n",
    "        'rndCod': randomStr,\n",
    "        'searchType': \"C\",\n",
    "        'search_text': \"\",\n",
    "        'set_date': \"\",\n",
    "        'whcroad_yn': 0  \n",
    "    }\n",
    "    response = requests.post(url, data=datas).json()\n",
    "    return response;"
   ]
  },
  {
   "cell_type": "code",
   "execution_count": null,
   "id": "487c4fff",
   "metadata": {},
   "outputs": [],
   "source": [
    "Gugun = getGugunList()"
   ]
  },
  {
   "cell_type": "code",
   "execution_count": null,
   "id": "64d64a10",
   "metadata": {},
   "outputs": [],
   "source": [
    "Gugun"
   ]
  },
  {
   "cell_type": "code",
   "execution_count": null,
   "id": "b797f54d",
   "metadata": {},
   "outputs": [],
   "source": [
    "result = []"
   ]
  },
  {
   "cell_type": "code",
   "execution_count": null,
   "id": "5ff365a5",
   "metadata": {},
   "outputs": [],
   "source": [
    "#for i in range(0, 1):\n",
    "#    for j in range(0, 1):\n",
    "for i in range(0, len(Gugun)):\n",
    "    for j in range(0, len(Gugun[i])):\n",
    "        Store = getStore(Gugun[i][j]['gugun_cd'], Gugun[i][j]['gugun_cd'][0:2])\n",
    "        Store = Store['list']\n",
    "        for k in range(0, len(Store)):\n",
    "            savedata = {\n",
    "                'sido_name': Store[k]['sido_name'],\n",
    "                'gugun_name': Store[k]['gugun_name'],\n",
    "                'sido_code': Store[k]['sido_code'],\n",
    "                'gugun_code': Store[k]['gugun_code'],\n",
    "                'addr': Store[k]['addr'],\n",
    "                'doro_address': Store[k]['doro_address'],\n",
    "                's_code': Store[k]['s_code'],\n",
    "                's_name': Store[k]['s_name'],\n",
    "                'open_dt': Store[k]['open_dt'],\n",
    "                'lat': Store[k]['lat'],\n",
    "                'lot': Store[k]['lot'],\n",
    "                's_biz_code': Store[k]['s_biz_code'],\n",
    "                'store_area_code': Store[k]['store_area_code'],\n",
    "                'out_distance': Store[k]['out_distance'],\n",
    "                'defaultimage': 'http://image.istarbucks.co.kr'+Store[k]['defaultimage']\n",
    "            }\n",
    "            result.append(savedata)"
   ]
  },
  {
   "cell_type": "code",
   "execution_count": null,
   "id": "11e24792",
   "metadata": {},
   "outputs": [],
   "source": [
    "Store[0]"
   ]
  },
  {
   "cell_type": "code",
   "execution_count": null,
   "id": "b84985e1",
   "metadata": {},
   "outputs": [],
   "source": [
    "selectdata = pd.DataFrame(result)"
   ]
  },
  {
   "cell_type": "code",
   "execution_count": null,
   "id": "4b9726ee",
   "metadata": {},
   "outputs": [],
   "source": [
    "selectdata#[selectdata['s_name']=='역삼이마트']['defaultimage'].values"
   ]
  },
  {
   "cell_type": "code",
   "execution_count": null,
   "id": "630b5a1f",
   "metadata": {},
   "outputs": [],
   "source": []
  }
 ],
 "metadata": {
  "kernelspec": {
   "display_name": "Python 3 (ipykernel)",
   "language": "python",
   "name": "python3"
  },
  "language_info": {
   "codemirror_mode": {
    "name": "ipython",
    "version": 3
   },
   "file_extension": ".py",
   "mimetype": "text/x-python",
   "name": "python",
   "nbconvert_exporter": "python",
   "pygments_lexer": "ipython3",
   "version": "3.9.7"
  },
  "toc": {
   "base_numbering": 1,
   "nav_menu": {},
   "number_sections": true,
   "sideBar": true,
   "skip_h1_title": false,
   "title_cell": "Table of Contents",
   "title_sidebar": "Contents",
   "toc_cell": false,
   "toc_position": {},
   "toc_section_display": true,
   "toc_window_display": false
  }
 },
 "nbformat": 4,
 "nbformat_minor": 5
}
