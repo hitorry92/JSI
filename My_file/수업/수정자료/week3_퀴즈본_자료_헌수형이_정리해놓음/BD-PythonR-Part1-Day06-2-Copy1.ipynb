{
 "cells": [
  {
   "cell_type": "markdown",
   "metadata": {},
   "source": [
    "# 입문자를 위한, 파이썬/R 데이터 분석  "
   ]
  },
  {
   "cell_type": "markdown",
   "metadata": {},
   "source": [
    "## Part(1) - Day06  : "
   ]
  },
  {
   "cell_type": "markdown",
   "metadata": {},
   "source": [
    "]"
   ]
  },
  {
   "cell_type": "markdown",
   "metadata": {},
   "source": [
    "## Today's mission\n",
    "\n",
    "- (크롤링) 시카고 샌드위치 맛집 소개 사이트에 접근하기"
   ]
  },
  {
   "cell_type": "markdown",
   "metadata": {},
   "source": [
    "]"
   ]
  },
  {
   "cell_type": "markdown",
   "metadata": {},
   "source": [
    "## (크롤링) 시카고 샌드위치 맛집 소개 사이트에 접근하기"
   ]
  },
  {
   "cell_type": "code",
   "execution_count": null,
   "metadata": {},
   "outputs": [],
   "source": [
    "from bs4 import BeautifulSoup\n",
    "from urllib.request import urlopen"
   ]
  },
  {
   "cell_type": "code",
   "execution_count": null,
   "metadata": {},
   "outputs": [],
   "source": [
    "url_base = \"https://www.chicagomag.com\"\n",
    "url_sub = \"/Chicago-Magazine/November-2012/Best-Sandwiches-Chicago/\"\n",
    "url = url_base + url_sub"
   ]
  },
  {
   "cell_type": "code",
   "execution_count": null,
   "metadata": {},
   "outputs": [],
   "source": [
    "url"
   ]
  },
  {
   "cell_type": "code",
   "execution_count": null,
   "metadata": {},
   "outputs": [],
   "source": [
    "import requests\n",
    "from bs4 import BeautifulSoup\n",
    "#res = requests.get(url) #크롤링 막아놈. \n",
    "headers = {'User-Agent': 'Mozilla/5.0'} #우회방법.\n",
    "res = requests.get(url, headers=headers) #우회방법.\n",
    "res"
   ]
  },
  {
   "cell_type": "code",
   "execution_count": null,
   "metadata": {},
   "outputs": [],
   "source": [
    "soup = BeautifulSoup(res.text)\n",
    "print(soup)"
   ]
  },
  {
   "cell_type": "code",
   "execution_count": null,
   "metadata": {},
   "outputs": [],
   "source": [
    "print(soup.find_all('div', 'sammy'))"
   ]
  },
  {
   "cell_type": "code",
   "execution_count": null,
   "metadata": {},
   "outputs": [],
   "source": [
    "len(soup.find_all('div', 'sammy'))"
   ]
  },
  {
   "cell_type": "code",
   "execution_count": null,
   "metadata": {
    "scrolled": true
   },
   "outputs": [],
   "source": [
    "print(soup.find_all('div', 'sammy')[0])"
   ]
  },
  {
   "cell_type": "markdown",
   "metadata": {},
   "source": [
    "### 접근한 웹 페이지에서 원하는 데이터 추출하고 정리하기"
   ]
  },
  {
   "cell_type": "code",
   "execution_count": null,
   "metadata": {},
   "outputs": [],
   "source": [
    "tmp_one = soup.find_all('div', 'sammy')[0]\n",
    "type(tmp_one)"
   ]
  },
  {
   "cell_type": "code",
   "execution_count": null,
   "metadata": {},
   "outputs": [],
   "source": [
    "tmp_one.find(class_='sammyRank').get_text()"
   ]
  },
  {
   "cell_type": "code",
   "execution_count": null,
   "metadata": {},
   "outputs": [],
   "source": [
    "tmp_one.find(class_='sammyListing').get_text()"
   ]
  },
  {
   "cell_type": "code",
   "execution_count": null,
   "metadata": {},
   "outputs": [],
   "source": [
    "tmp_one.find('a')['href']"
   ]
  },
  {
   "cell_type": "code",
   "execution_count": null,
   "metadata": {},
   "outputs": [],
   "source": [
    "import re\n",
    "tmp_string = tmp_one.find(class_='sammyListing').get_text()\n",
    "tmp_string#.split()"
   ]
  },
  {
   "cell_type": "code",
   "execution_count": null,
   "metadata": {},
   "outputs": [],
   "source": [
    "tmp_string.split('\\n') # more 옆에 공백제거는?"
   ]
  },
  {
   "cell_type": "code",
   "execution_count": null,
   "metadata": {},
   "outputs": [],
   "source": [
    "re.split(('\\n|\\r\\n'), tmp_string)"
   ]
  },
  {
   "cell_type": "code",
   "execution_count": null,
   "metadata": {},
   "outputs": [],
   "source": [
    "print(re.split(('\\n|\\r\\n'), tmp_string)[0])\n",
    "print(re.split(('\\n|\\r\\n'), tmp_string)[1])\n",
    "print(re.split(('\\n|\\r\\n'), tmp_string)[2])"
   ]
  },
  {
   "cell_type": "code",
   "execution_count": null,
   "metadata": {},
   "outputs": [],
   "source": [
    "from urllib.request import urljoin"
   ]
  },
  {
   "cell_type": "code",
   "execution_count": null,
   "metadata": {},
   "outputs": [],
   "source": [
    "#url_base\n",
    "#tmp_one.find('a')['href']\n",
    "#urljoin(url_base, tmp_one.find('a')['href'])"
   ]
  },
  {
   "cell_type": "code",
   "execution_count": null,
   "metadata": {},
   "outputs": [],
   "source": [
    "rank = []\n",
    "main_menu = []\n",
    "cafe_name = []\n",
    "url_add = []\n",
    "\n",
    "list_soup = soup.find_all('div', 'sammy')\n",
    "\n",
    "for item in list_soup:\n",
    "    rank.append(item.find(class_=\"sammyRank\").get_text())\n",
    "    \n",
    "    tmp_string = item.find(class_='sammyListing').get_text()\n",
    "    \n",
    "    main_menu.append(re.split(('\\n|\\r\\n'), tmp_string)[0])\n",
    "    cafe_name.append(re.split(('\\n|\\r\\n'), tmp_string)[1])\n",
    "    \n",
    "    url_add.append(urljoin(url_base, item.find('a')['href']))"
   ]
  },
  {
   "cell_type": "code",
   "execution_count": null,
   "metadata": {},
   "outputs": [],
   "source": [
    "rank[:5]"
   ]
  },
  {
   "cell_type": "code",
   "execution_count": null,
   "metadata": {},
   "outputs": [],
   "source": [
    "main_menu[:5]"
   ]
  },
  {
   "cell_type": "code",
   "execution_count": null,
   "metadata": {},
   "outputs": [],
   "source": [
    "cafe_name[:5]"
   ]
  },
  {
   "cell_type": "code",
   "execution_count": null,
   "metadata": {},
   "outputs": [],
   "source": [
    "url_add[:5]"
   ]
  },
  {
   "cell_type": "code",
   "execution_count": null,
   "metadata": {},
   "outputs": [],
   "source": [
    "len(rank), len(main_menu), len(cafe_name), len(url_add)"
   ]
  },
  {
   "cell_type": "code",
   "execution_count": null,
   "metadata": {},
   "outputs": [],
   "source": [
    "import pandas as pd"
   ]
  },
  {
   "cell_type": "code",
   "execution_count": null,
   "metadata": {},
   "outputs": [],
   "source": [
    "data = {'Rank':rank, 'Cafe':cafe_name, 'Menu':main_menu, 'URL':url_add}\n",
    "df = pd.DataFrame(data)\n",
    "df.head()"
   ]
  },
  {
   "cell_type": "code",
   "execution_count": null,
   "metadata": {},
   "outputs": [],
   "source": [
    "df.to_csv('data/best_sandwiches_list_chicago_raw.csv', sep=\",\", encoding='UTF-8')"
   ]
  },
  {
   "cell_type": "markdown",
   "metadata": {},
   "source": [
    "### 다수의 웹 페이지에 자동으로 접근해서 원하는 정보 가져오기"
   ]
  },
  {
   "cell_type": "code",
   "execution_count": null,
   "metadata": {
    "scrolled": true
   },
   "outputs": [],
   "source": [
    "df = pd.read_csv('data/best_sandwiches_list_chicago_raw.csv', index_col=0)\n",
    "df.head()"
   ]
  },
  {
   "cell_type": "code",
   "execution_count": null,
   "metadata": {
    "scrolled": true
   },
   "outputs": [],
   "source": [
    "df['URL'][0]"
   ]
  },
  {
   "cell_type": "code",
   "execution_count": null,
   "metadata": {},
   "outputs": [],
   "source": [
    "html = df['URL'][0]\n",
    "headers = {'User-Agent': 'Mozilla/5.0'}\n",
    "res = requests.get(html, headers=headers)\n",
    "soup_tmp = BeautifulSoup(res.text)\n",
    "print(soup_tmp)"
   ]
  },
  {
   "cell_type": "code",
   "execution_count": null,
   "metadata": {
    "scrolled": true
   },
   "outputs": [],
   "source": [
    "print(soup_tmp.find('p', 'addy'))"
   ]
  },
  {
   "cell_type": "code",
   "execution_count": null,
   "metadata": {},
   "outputs": [],
   "source": [
    "price_tmp = soup_tmp.find('p', 'addy').get_text()\n",
    "print(price_tmp)"
   ]
  },
  {
   "cell_type": "code",
   "execution_count": null,
   "metadata": {},
   "outputs": [],
   "source": [
    "price_tmp.split()"
   ]
  },
  {
   "cell_type": "code",
   "execution_count": null,
   "metadata": {},
   "outputs": [],
   "source": [
    "price_tmp.split()[0]"
   ]
  },
  {
   "cell_type": "code",
   "execution_count": null,
   "metadata": {},
   "outputs": [],
   "source": [
    "price_tmp.split()[0][:-1]"
   ]
  },
  {
   "cell_type": "code",
   "execution_count": null,
   "metadata": {},
   "outputs": [],
   "source": [
    "price_tmp.split()[1]"
   ]
  },
  {
   "cell_type": "code",
   "execution_count": null,
   "metadata": {
    "scrolled": true
   },
   "outputs": [],
   "source": [
    "price_tmp.split()[-2]"
   ]
  },
  {
   "cell_type": "code",
   "execution_count": null,
   "metadata": {},
   "outputs": [],
   "source": [
    "price_tmp.split()[-1]"
   ]
  },
  {
   "cell_type": "code",
   "execution_count": null,
   "metadata": {},
   "outputs": [],
   "source": [
    "' '.join(price_tmp.split()[1:-2])[:-1]"
   ]
  },
  {
   "cell_type": "code",
   "execution_count": null,
   "metadata": {},
   "outputs": [],
   "source": [
    "df.index[:3]"
   ]
  },
  {
   "cell_type": "code",
   "execution_count": null,
   "metadata": {},
   "outputs": [],
   "source": [
    "price = []\n",
    "address = []\n",
    "\n",
    "for n in df.index[:3]:\n",
    "    html = df['URL'][n]\n",
    "    res = requests.get(html, headers=headers)\n",
    "    soup_tmp = BeautifulSoup(res.text)\n",
    "    \n",
    "    gettings = soup_tmp.find('p', 'addy').get_text()\n",
    "    price.append(gettings.split()[0][:-1])\n",
    "    address.append(' '.join(gettings.split()[1:-2])[:-1])"
   ]
  },
  {
   "cell_type": "code",
   "execution_count": null,
   "metadata": {},
   "outputs": [],
   "source": [
    "price"
   ]
  },
  {
   "cell_type": "code",
   "execution_count": null,
   "metadata": {},
   "outputs": [],
   "source": [
    "address"
   ]
  },
  {
   "cell_type": "code",
   "execution_count": null,
   "metadata": {},
   "outputs": [],
   "source": [
    "soup_tmp.find('p', 'addy').get_text()"
   ]
  },
  {
   "cell_type": "code",
   "execution_count": null,
   "metadata": {},
   "outputs": [],
   "source": [
    "soup_tmp.find('p', 'addy').get_text()"
   ]
  },
  {
   "cell_type": "code",
   "execution_count": null,
   "metadata": {},
   "outputs": [],
   "source": [
    "soup_tmp.find('div', 'article-body').find('p').get_text()"
   ]
  },
  {
   "cell_type": "code",
   "execution_count": null,
   "metadata": {},
   "outputs": [],
   "source": [
    "soup_tmp.find('p').get_text()"
   ]
  },
  {
   "cell_type": "code",
   "execution_count": null,
   "metadata": {},
   "outputs": [],
   "source": [
    "price = []\n",
    "address = []\n",
    "article = []\n",
    "hompage = []\n",
    "for n in df.index[:3]:\n",
    "    html = df['URL'][n]\n",
    "    res = requests.get(html, headers=headers)\n",
    "    soup_tmp = BeautifulSoup(res.text)\n",
    "    \n",
    "    gettings = soup_tmp.find('p', 'addy').get_text()\n",
    "    gettings2 = soup_tmp.find('p').get_text()\n",
    "    #find('div', 'article-body').find('p').get_text()\n",
    "    price.append(gettings.split()[0][:-1])\n",
    "    hompage.append(gettings.split()[-1])\n",
    "    address.append(' '.join(gettings.split()[1:-2])[:-1])\n",
    "    article.append(gettings2)"
   ]
  },
  {
   "cell_type": "code",
   "execution_count": null,
   "metadata": {},
   "outputs": [],
   "source": [
    "hompage"
   ]
  },
  {
   "cell_type": "markdown",
   "metadata": {},
   "source": [
    "### 상태 진행바 적용 후 샌드위치 페이지 50개 접근하기"
   ]
  },
  {
   "cell_type": "code",
   "execution_count": null,
   "metadata": {},
   "outputs": [],
   "source": [
    "# !pip install tqdm"
   ]
  },
  {
   "cell_type": "code",
   "execution_count": null,
   "metadata": {},
   "outputs": [],
   "source": [
    "from tqdm import tqdm\n",
    "import re"
   ]
  },
  {
   "cell_type": "code",
   "execution_count": null,
   "metadata": {
    "scrolled": true
   },
   "outputs": [],
   "source": [
    "import time\n",
    " \n",
    "for i in tqdm(range(10)): ## tqdm 첫 번째 인자에 순회가능한 객체 전달\n",
    "    time.sleep(0.01)"
   ]
  },
  {
   "cell_type": "code",
   "execution_count": null,
   "metadata": {},
   "outputs": [],
   "source": [
    "price = []\n",
    "address = []\n",
    "article = []\n",
    "homepage = []\n",
    "\n",
    "for n in tqdm(df.index):\n",
    "    html = df['URL'][n]\n",
    "    res = requests.get(html, headers=headers)\n",
    "    soup_tmp = BeautifulSoup(res.text)\n",
    "    \n",
    "    gettings = soup_tmp.find('p', 'addy').get_text()\n",
    "    gettings2 = soup_tmp.find('p').get_text()\n",
    "    #gettings2 = soup_tmp.find('div', 'article-body').find('p').get_text()\n",
    "    \n",
    "    price.append(gettings.split()[0][:-1])\n",
    "    address.append(' '.join(gettings.split()[1:-2])[:-1])\n",
    "    article.append(gettings2)\n",
    "    \n",
    "    pattern = r'\\d{3}-\\d{3]-\\d{4}'\n",
    "    if re.search(pattern, gettings.split()[-1]):\n",
    "        homepage.append(\" \")\n",
    "    else:\n",
    "        homepage.append(gettings.split()[-1])"
   ]
  },
  {
   "cell_type": "code",
   "execution_count": null,
   "metadata": {},
   "outputs": [],
   "source": [
    "homepage"
   ]
  },
  {
   "cell_type": "markdown",
   "metadata": {},
   "source": [
    "### 50개 웹 페이지에 대한 정보 가져오기"
   ]
  },
  {
   "cell_type": "code",
   "execution_count": null,
   "metadata": {
    "scrolled": true
   },
   "outputs": [],
   "source": [
    "len(price), len(address), len(article), len(homepage), len(df)"
   ]
  },
  {
   "cell_type": "code",
   "execution_count": null,
   "metadata": {
    "scrolled": true
   },
   "outputs": [],
   "source": [
    "# df = pd.read_csv('data/best_sandwiches_list_chicago_raw.csv', index_col=0)\n",
    "# df.head()"
   ]
  },
  {
   "cell_type": "code",
   "execution_count": null,
   "metadata": {
    "scrolled": true
   },
   "outputs": [],
   "source": [
    "df['Price'] = price\n",
    "df['Address'] = address\n",
    "df['Article'] = article\n",
    "df['Homepage'] = homepage\n",
    "df.head()"
   ]
  },
  {
   "cell_type": "code",
   "execution_count": null,
   "metadata": {},
   "outputs": [],
   "source": [
    "#df[['Rank', 'Cafe', 'Menu', 'Price', 'Address']]"
   ]
  },
  {
   "cell_type": "code",
   "execution_count": null,
   "metadata": {},
   "outputs": [],
   "source": [
    "df = df.loc[:, ['Rank', 'Cafe', 'Menu', 'Price', 'Address', 'Homepage', 'Article']]\n",
    "df.head()"
   ]
  },
  {
   "cell_type": "code",
   "execution_count": null,
   "metadata": {},
   "outputs": [],
   "source": [
    "# df.set_index('Rank', inplace=True)\n",
    "# df.head()"
   ]
  },
  {
   "cell_type": "code",
   "execution_count": null,
   "metadata": {},
   "outputs": [],
   "source": [
    "df['Article'].head()"
   ]
  },
  {
   "cell_type": "code",
   "execution_count": null,
   "metadata": {},
   "outputs": [],
   "source": [
    "# 리스트로 바꾼 후 공백 제거\n",
    "# article_list=list(df['Article'])\n",
    "# b= [item.lstrip() for item in article_list]\n",
    "# b"
   ]
  },
  {
   "cell_type": "code",
   "execution_count": null,
   "metadata": {
    "scrolled": false
   },
   "outputs": [],
   "source": [
    "#(r'\\s+', ' ')는 Python의 정규표현식(Regular Expression)을 사용하는 것입니다. \n",
    "#정규표현식은 특정한 패턴을 찾거나 대체하는 데 사용되는 강력한 문자열 매칭 도구입니다. \n",
    "#여기서 r'\\s+'는 공백 문자를 의미하며, +는 해당 패턴이 최소한 한 번 이상 연속해서 나타나는 것을 의미합니다.\n",
    "#따라서 r'\\s+'는 하나 이상의 연속된 공백 문자를 의미합니다.\n",
    "df['Article'] = df['Article'].str.replace(r'\\s+', ' ', regex=True)\n",
    "df['Article']\n",
    "df"
   ]
  },
  {
   "cell_type": "code",
   "execution_count": null,
   "metadata": {},
   "outputs": [],
   "source": [
    "df.to_csv('data/best_sandwiches_list_chicago_result.csv', sep=',', encoding='UTF-8')"
   ]
  },
  {
   "cell_type": "code",
   "execution_count": null,
   "metadata": {},
   "outputs": [],
   "source": []
  }
 ],
 "metadata": {
  "kernelspec": {
   "display_name": "Python 3 (ipykernel)",
   "language": "python",
   "name": "python3"
  },
  "language_info": {
   "codemirror_mode": {
    "name": "ipython",
    "version": 3
   },
   "file_extension": ".py",
   "mimetype": "text/x-python",
   "name": "python",
   "nbconvert_exporter": "python",
   "pygments_lexer": "ipython3",
   "version": "3.9.7"
  },
  "toc": {
   "base_numbering": 1,
   "nav_menu": {},
   "number_sections": true,
   "sideBar": true,
   "skip_h1_title": false,
   "title_cell": "Table of Contents",
   "title_sidebar": "Contents",
   "toc_cell": false,
   "toc_position": {
    "height": "calc(100% - 180px)",
    "left": "10px",
    "top": "150px",
    "width": "245.062px"
   },
   "toc_section_display": true,
   "toc_window_display": false
  }
 },
 "nbformat": 4,
 "nbformat_minor": 2
}
