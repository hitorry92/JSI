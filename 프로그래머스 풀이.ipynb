{
 "cells": [
  {
   "cell_type": "markdown",
   "metadata": {},
   "source": [
    "# 프로그래머스 : 겹치는 선분의 길이"
   ]
  },
  {
   "cell_type": "code",
   "execution_count": 7,
   "metadata": {},
   "outputs": [],
   "source": [
    "def solution(l):\n",
    "    a ={}\n",
    "    b = 0\n",
    "    for c,d in l:\n",
    "        for i in range(c,d):\n",
    "            e = (i,i+1)\n",
    "            if e not in a:\n",
    "                a[e] = 0\n",
    "            a[e] += 1\n",
    "    for i in a:\n",
    "        if a[i] == 1:\n",
    "            continue\n",
    "        b += 1\n",
    "    return b"
   ]
  },
  {
   "cell_type": "markdown",
   "metadata": {},
   "source": [
    "# 프로그래머스 : 잘라서 배열로 저장하기"
   ]
  },
  {
   "cell_type": "code",
   "execution_count": null,
   "metadata": {},
   "outputs": [],
   "source": [
    "def solution(m, n):\n",
    "    return [m[i:i+n] for i in range(0,len(m),n)]"
   ]
  },
  {
   "cell_type": "markdown",
   "metadata": {},
   "source": [
    "# 프로그래머스 : 영어가 싫어요"
   ]
  },
  {
   "cell_type": "code",
   "execution_count": null,
   "metadata": {},
   "outputs": [],
   "source": [
    "def solution(n):\n",
    "    a = [\"zero\",\"one\",\"two\",\"three\",\"four\",\"five\",\"six\",\"seven\",\"eight\",\"nine\"]\n",
    "    b = \"0123456789\"\n",
    "    for c,d in zip(a,b):\n",
    "        if c in n:\n",
    "            n = n.replace(c,d)\n",
    "    return int(n)"
   ]
  },
  {
   "cell_type": "code",
   "execution_count": null,
   "metadata": {},
   "outputs": [],
   "source": [
    "def solution(numbers):\n",
    "    for num, eng in enumerate([\"zero\", \"one\", \"two\", \"three\", \"four\", \"five\", \"six\", \"seven\", \"eight\", \"nine\"]):\n",
    "        numbers = numbers.replace(eng, str(num))\n",
    "    return int(numbers)"
   ]
  },
  {
   "cell_type": "markdown",
   "metadata": {},
   "source": [
    "# 프로그래머스 : 구슬을 나누는 경우의 수"
   ]
  },
  {
   "cell_type": "code",
   "execution_count": null,
   "metadata": {},
   "outputs": [],
   "source": [
    "def solution(b, s):\n",
    "    a = 1\n",
    "    for i in range(s+1,b+1):\n",
    "        a *= i\n",
    "    for i in range(1,b-s+1):\n",
    "        a //= i\n",
    "    return a"
   ]
  },
  {
   "cell_type": "markdown",
   "metadata": {},
   "source": [
    "# 프로그래머스 : 삼각형의 완성조건 (2)"
   ]
  },
  {
   "cell_type": "code",
   "execution_count": null,
   "metadata": {},
   "outputs": [],
   "source": [
    "def solution(s):\n",
    "    a = 1\n",
    "    b = 0\n",
    "    while True:\n",
    "        s1 = sorted(s+[a])\n",
    "        if s1[2] < s1[0] + s1[1]:\n",
    "            b += 1\n",
    "        elif s1[2] == a:\n",
    "            break\n",
    "        a += 1\n",
    "    return b"
   ]
  },
  {
   "cell_type": "markdown",
   "metadata": {},
   "source": [
    "# 프로그래머스 : 외계어 사전"
   ]
  },
  {
   "cell_type": "code",
   "execution_count": null,
   "metadata": {},
   "outputs": [],
   "source": [
    "def solution(s, d):\n",
    "    for i in d:\n",
    "        if set(i) == set(s):\n",
    "            return 1\n",
    "    return 2"
   ]
  },
  {
   "cell_type": "markdown",
   "metadata": {},
   "source": [
    "# 프로그래머스 : 직사각형 넓이 구하기"
   ]
  },
  {
   "cell_type": "code",
   "execution_count": null,
   "metadata": {},
   "outputs": [],
   "source": [
    "def solution(e):\n",
    "    f = []\n",
    "    a,b = e[0]\n",
    "    for c,d in e:\n",
    "        f.append(((a-c)**2+(b-d)**2)**(1/2))\n",
    "    f.sort()\n",
    "    return int(f[1]*f[2])"
   ]
  },
  {
   "cell_type": "markdown",
   "metadata": {},
   "source": [
    "# 프로그래머스 : 종이 자르기"
   ]
  },
  {
   "cell_type": "code",
   "execution_count": null,
   "metadata": {},
   "outputs": [],
   "source": [
    "def solution(m, n):\n",
    "    return (m-1)+m*(n-1)"
   ]
  }
 ],
 "metadata": {
  "kernelspec": {
   "display_name": "Python 3",
   "language": "python",
   "name": "python3"
  },
  "language_info": {
   "codemirror_mode": {
    "name": "ipython",
    "version": 3
   },
   "file_extension": ".py",
   "mimetype": "text/x-python",
   "name": "python",
   "nbconvert_exporter": "python",
   "pygments_lexer": "ipython3",
   "version": "3.11.4"
  },
  "orig_nbformat": 4
 },
 "nbformat": 4,
 "nbformat_minor": 2
}
