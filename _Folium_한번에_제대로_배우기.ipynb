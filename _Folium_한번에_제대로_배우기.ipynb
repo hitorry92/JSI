{
  "cells": [
    {
      "cell_type": "markdown",
      "metadata": {
        "id": "BlPRHZZ9x8Bg"
      },
      "source": [
        "# Folium 한번에 제대로 배우기"
      ]
    },
    {
      "cell_type": "code",
      "execution_count": null,
      "metadata": {
        "colab": {
          "base_uri": "https://localhost:8080/",
          "height": 35
        },
        "id": "B7gC42v7kU8n",
        "outputId": "e8cb4073-a3fe-4da2-9dc0-970b2443a12a"
      },
      "outputs": [],
      "source": [
        "import numpy as np\n",
        "import pandas as pd\n",
        "import json\n",
        "import requests\n",
        "import branca\n",
        "import folium\n",
        "from folium import plugins\n",
        "from folium.plugins import MousePosition\n",
        "from folium.plugins import MeasureControl\n",
        "from folium.plugins import Draw\n",
        "folium.__version__"
      ]
    },
    {
      "cell_type": "code",
      "execution_count": null,
      "metadata": {
        "colab": {
          "base_uri": "https://localhost:8080/",
          "height": 519
        },
        "id": "36u4U3y_kZ8v",
        "outputId": "7021aa1d-d83a-4d1f-a6bc-708b24a0c047"
      },
      "outputs": [],
      "source": [
        "m = folium.Map(location = [37.566697, 126.978426])\n",
        "m"
      ]
    },
    {
      "cell_type": "code",
      "execution_count": null,
      "metadata": {
        "id": "7OtHhwUeyUrI"
      },
      "outputs": [],
      "source": [
        "#m.save(\"./map.html\")"
      ]
    },
    {
      "cell_type": "code",
      "execution_count": null,
      "metadata": {
        "colab": {
          "base_uri": "https://localhost:8080/"
        },
        "id": "U5FzBmxByX3C",
        "outputId": "92837083-4c3c-4135-f8aa-76e4788c79e1"
      },
      "outputs": [],
      "source": [
        "!ls -a"
      ]
    },
    {
      "cell_type": "markdown",
      "metadata": {
        "id": "x9dtVn9Lyx0r"
      },
      "source": [
        "## 타일(Tiles)\n",
        "\n",
        "* OpenStreetMap\n",
        "* Mapbox Bright (Limited levels of zoom for free tiles)\n",
        "* Mapbox Control Room (Limited levels of zoom for free tiles)\n",
        "* Stamen (Terrain, Toner, and Watercolor)\n",
        "* Cloudmade (Must pass API key)\n",
        "* Mapbox (Must pass API key)\n",
        "* CartoDB (positron and dark_matter)"
      ]
    },
    {
      "cell_type": "code",
      "execution_count": null,
      "metadata": {
        "colab": {
          "base_uri": "https://localhost:8080/",
          "height": 519
        },
        "id": "_jYMIPTbka_z",
        "outputId": "826b5c31-4bbd-4d35-fd4e-833f37569364"
      },
      "outputs": [],
      "source": [
        "folium.Map(\n",
        "    location = [37.566697, 126.978426],\n",
        "    tiles = \"stamen toner\",\n",
        "    zoom_start = 15\n",
        ")"
      ]
    },
    {
      "cell_type": "markdown",
      "metadata": {
        "id": "Ko6JVhHPy7Db"
      },
      "source": [
        "## 마커(Markers)"
      ]
    },
    {
      "cell_type": "code",
      "execution_count": null,
      "metadata": {
        "colab": {
          "base_uri": "https://localhost:8080/",
          "height": 519
        },
        "id": "0nCREbBFyHrx",
        "outputId": "5aec534e-d71e-4a12-f4a3-34f53a7faeef"
      },
      "outputs": [],
      "source": [
        "m = folium.Map(\n",
        "    location = [37.566697, 126.978426],\n",
        "    tiles = \"stamen toner\",\n",
        "    zoom_start = 15\n",
        ")\n",
        "\n",
        "tooltip = \"Click me!\"\n",
        "\n",
        "folium.Marker(\n",
        "    location = [37.555150, 126.970538],\n",
        "    popup = \"<b>Seoul Station</b>\",\n",
        "    tooltip = tooltip\n",
        ").add_to(m)\n",
        "\n",
        "# m.add_child(folium.Marker(\n",
        "#     location = [37.555150, 126.970538],\n",
        "#     popup = \"<b>Seoul Station</b>\",\n",
        "#     tooltip = tooltip\n",
        "#     ))\n",
        "\n",
        "folium.Marker(\n",
        "    location = [37.529759, 126.964642],\n",
        "    popup = \"<b>Yongsan Station</b>\",\n",
        "    tooltip = tooltip\n",
        ").add_to(m)\n",
        "\n",
        "m"
      ]
    },
    {
      "cell_type": "markdown",
      "metadata": {
        "id": "CWCaXu1aXQFu"
      },
      "source": [
        "### 아이콘(Icon)"
      ]
    },
    {
      "cell_type": "code",
      "execution_count": null,
      "metadata": {
        "colab": {
          "base_uri": "https://localhost:8080/",
          "height": 519
        },
        "id": "f3VrFJ8HzEbG",
        "outputId": "c38ac8bc-dd00-47fb-bace-597be39311f5"
      },
      "outputs": [],
      "source": [
        "m = folium.Map(\n",
        "    location = [37.566697, 126.978426],\n",
        "    tiles = \"stamen toner\",\n",
        "    zoom_start = 12\n",
        ")\n",
        "\n",
        "folium.Marker(\n",
        "    location = [37.555150, 126.970538],\n",
        "    popup = \"<b>Seoul Station</b>\",\n",
        "    icon = folium.Icon(color = \"red\", icon = \"info-sign\")\n",
        ").add_to(m)\n",
        "\n",
        "# m.add_child(folium.Marker(\n",
        "#     location = [37.555150, 126.970538],\n",
        "#     popup = \"<b>Seoul Station</b>\",\n",
        "#     tooltip = tooltip\n",
        "#     ))\n",
        "\n",
        "folium.Marker(\n",
        "    location = [37.529759, 126.964642],\n",
        "    popup = \"<b>Yongsan Station</b>\",\n",
        "    icon = folium.Icon(color = \"green\", icon = \"bookmark\")\n",
        ").add_to(m)\n",
        "\n",
        "folium.Marker(\n",
        "    location = [37.560704, 127.038819],\n",
        "    popup = \"<b>wangsimni Station</b>\",\n",
        "    icon = folium.Icon(color = \"blue\", icon = \"flag\")\n",
        " ).add_to(m)\n",
        "\n",
        "m"
      ]
    },
    {
      "cell_type": "code",
      "execution_count": null,
      "metadata": {
        "colab": {
          "base_uri": "https://localhost:8080/",
          "height": 519
        },
        "id": "j42t2w8PDZc4",
        "outputId": "633ff0ec-4441-4f23-a2c9-cec8b9227863"
      },
      "outputs": [],
      "source": [
        "from folium import plugins\n",
        "\n",
        "m = folium.Map(\n",
        "    location = [37.566697, 126.978426],\n",
        "    tiles = \"stamen toner\",\n",
        "    zoom_start = 11\n",
        ")\n",
        "\n",
        "icon_plane = plugins.BeautifyIcon(\n",
        "    icon = \"plane\",\n",
        "    border_color = \"darkblue\",\n",
        "    text_color = \"darkblue\",\n",
        "    icon_shape = \"circle\"\n",
        ")\n",
        "\n",
        "icon_flag = plugins.BeautifyIcon(\n",
        "    icon = \"flag\",\n",
        "    border_color = \"green\",\n",
        "    text_color = \"green\",\n",
        "    icon_shape = \"triangle\"\n",
        ")\n",
        "\n",
        "icon_number = plugins.BeautifyIcon(\n",
        "    number = 10,\n",
        "    border_color = \"darkred\",\n",
        "    text_color = \"darkred\",\n",
        "    inner_icon_style = \"margin-top:0;\"\n",
        ")\n",
        "\n",
        "folium.Marker(\n",
        "    location = [37.558834, 126.802794],\n",
        "    popup = \"Plane\",\n",
        "    icon = icon_plane\n",
        ").add_to(m)\n",
        "\n",
        "folium.Marker(\n",
        "    location = [37.530357, 126.930722],\n",
        "    popup = \"number\",\n",
        "    icon = icon_number\n",
        ").add_to(m)\n",
        "\n",
        "folium.Marker(\n",
        "    location = [37.551040, 126.990666],\n",
        "    popup = \"flag\",\n",
        "    icon = icon_flag\n",
        ").add_to(m)\n",
        "\n",
        "m"
      ]
    },
    {
      "cell_type": "markdown",
      "metadata": {
        "id": "Nt1DTh2SALI7"
      },
      "source": [
        "### 보트 마커(Boat Marker)"
      ]
    },
    {
      "cell_type": "code",
      "execution_count": null,
      "metadata": {
        "colab": {
          "base_uri": "https://localhost:8080/",
          "height": 519
        },
        "id": "fHLPKSzqAObh",
        "outputId": "0d738e12-ab9d-404c-fe3d-5dc618026532"
      },
      "outputs": [],
      "source": [
        "m = folium.Map(\n",
        "    location = [30, -180],\n",
        "    zoom_start = 3\n",
        ")\n",
        "plugins.BoatMarker(\n",
        "    location = [41.584185, 161.792354],\n",
        "    heading = 45,\n",
        "    wind_heading = 120,\n",
        "    wind_speed = 45,\n",
        "    color = \"purple\"\n",
        ").add_to(m)\n",
        "\n",
        "plugins.BoatMarker(\n",
        "    location = [28.572786, 157.095985],\n",
        "    heading = -20,\n",
        "    wind_heading = 45,\n",
        "    wind_speed = 15,\n",
        "    color = \"darkblue\"\n",
        ").add_to(m)\n",
        "\n",
        "plugins.BoatMarker(\n",
        "    location = [39.836756, 176.479184],\n",
        "    heading = -30,\n",
        "    wind_heading = 25,\n",
        "    wind_speed = 80,\n",
        "    color = \"green\"\n",
        ").add_to(m)\n",
        "\n",
        "m"
      ]
    },
    {
      "cell_type": "markdown",
      "metadata": {
        "id": "0P-DDwLrXngI"
      },
      "source": [
        "### 클릭 마커"
      ]
    },
    {
      "cell_type": "code",
      "execution_count": null,
      "metadata": {
        "colab": {
          "base_uri": "https://localhost:8080/",
          "height": 519
        },
        "id": "Wn9Rv_7UzStp",
        "outputId": "b4e2d16d-2388-4b85-cfe9-2589edc1735f"
      },
      "outputs": [],
      "source": [
        "m = folium.Map(\n",
        "    location = [37.566697, 126.978426],\n",
        "    tiles = \"stamen toner\",\n",
        "    zoom_start = 13\n",
        ")\n",
        "\n",
        "folium.Marker(\n",
        "    location = [37.566697, 126.978426],\n",
        "    popup = \"Seoul CityHall\"\n",
        ").add_to(m)\n",
        "\n",
        "m.add_child(folium.ClickForMarker(popup = \"Marker\"))\n",
        "\n",
        "# folium.ClickForMarker(popup = \"Marker\").add_to(m)\n",
        "# m"
      ]
    },
    {
      "cell_type": "markdown",
      "metadata": {
        "id": "ME4brC3iXV42"
      },
      "source": [
        "### 원(Circle)"
      ]
    },
    {
      "cell_type": "code",
      "execution_count": null,
      "metadata": {
        "colab": {
          "base_uri": "https://localhost:8080/",
          "height": 519
        },
        "id": "xGns2S-8zJXP",
        "outputId": "cc63afb0-618f-4565-e9db-45e669b6cd6b"
      },
      "outputs": [],
      "source": [
        "m = folium.Map(\n",
        "    location = [37.566697, 126.978426],\n",
        "    tiles = \"stamen toner\",\n",
        "    zoom_start = 12\n",
        ")\n",
        "\n",
        "folium.Circle(\n",
        "    location = [37.555150, 126.970538],\n",
        "    popup = \"<b>Seoul Station</b>\",\n",
        "    radius = 60,\n",
        "    color = \"royalblue\",\n",
        "    fill = False\n",
        ").add_to(m)\n",
        "\n",
        "folium.CircleMarker(\n",
        "    location = [37.529759, 126.964642],\n",
        "    popup = \"<b>Yongsan Station</b>\",\n",
        "    radius = 40,\n",
        "    color = \"darkblue\",\n",
        "    fill = True,\n",
        "    fill_color = \"darkblue\"\n",
        ").add_to(m)\n",
        "\n",
        "folium.CircleMarker(\n",
        "    location = [37.560704, 127.038819],\n",
        "    popup = \"<b>wangsimni Station</b>\",\n",
        "    radius = 20,\n",
        "    color = \"purple\",\n",
        "    fill = True,\n",
        "    fill_color = \"purple\"\n",
        ").add_to(m)\n",
        "m"
      ]
    },
    {
      "cell_type": "markdown",
      "metadata": {
        "id": "My_ETn3IXF2Z"
      },
      "source": [
        "* 서울: [37.566687, 126.978417]\n",
        "* 부산: [35.179774, 129.075004]\n",
        "* 인천: [37.455900, 126.705522]\n",
        "* 대구: [35.871380, 128.601743]\n",
        "* 대전: [36.350451, 127.384827]\n",
        "* 광주: [35.160072, 126.851440]"
      ]
    },
    {
      "cell_type": "code",
      "execution_count": null,
      "metadata": {
        "colab": {
          "base_uri": "https://localhost:8080/",
          "height": 519
        },
        "id": "b3ode1o1X-nL",
        "outputId": "11e67603-e151-40fd-f950-c770fbc6062e"
      },
      "outputs": [],
      "source": [
        "cities = [[37.566687, 126.978417],\n",
        "          [35.179774, 129.075004],\n",
        "          [37.455900, 126.705522],\n",
        "          [35.871380, 128.601743],\n",
        "          [36.350451, 127.384827],\n",
        "          [35.160072, 126.851440]]\n",
        "\n",
        "m = folium.Map(\n",
        "    location = [36.577629, 127.770135],\n",
        "    tiles = \"stamen toner\",\n",
        "    zoom_start = 7\n",
        ")\n",
        "\n",
        "# for i in range(len(cities)):\n",
        "#   folium.Circle(\n",
        "#       location = cities[i],\n",
        "#       radius = 200,\n",
        "#       color = \"red\"\n",
        "#   ).add_to(m)\n",
        "\n",
        "for i in range(len(cities)):\n",
        "  folium.CircleMarker(\n",
        "      location = cities[i],\n",
        "      radius = 10,\n",
        "      color = \"red\"\n",
        ").add_to(m)\n",
        "\n",
        "m"
      ]
    },
    {
      "cell_type": "markdown",
      "metadata": {
        "id": "YGclaraCjNNK"
      },
      "source": [
        "### 폴리 라인(Poly Line)"
      ]
    },
    {
      "cell_type": "code",
      "execution_count": null,
      "metadata": {
        "colab": {
          "base_uri": "https://localhost:8080/",
          "height": 519
        },
        "id": "JDuEp0vnjTOb",
        "outputId": "cc721b52-2c19-4950-f963-555bb2af3ee8"
      },
      "outputs": [],
      "source": [
        "cities = [[37.566687, 126.978417],\n",
        "          [35.179774, 129.075004],\n",
        "          [37.455900, 126.705522],\n",
        "          [35.871380, 128.601743],\n",
        "          [36.350451, 127.384827],\n",
        "          [35.160072, 126.851440]]\n",
        "\n",
        "m = folium.Map(\n",
        "    location = [36.577629, 127.770135],\n",
        "    tiles = \"stamen toner\",\n",
        "    zoom_start = 7\n",
        ")\n",
        "\n",
        "folium.PolyLine(\n",
        "    locations = cities,\n",
        "    tooltip = \"PolyLine\",\n",
        ").add_to(m)\n",
        "\n",
        "m"
      ]
    },
    {
      "cell_type": "markdown",
      "metadata": {
        "id": "UBYAX87sjzCu"
      },
      "source": [
        "### 사각형(Rectangle)"
      ]
    },
    {
      "cell_type": "code",
      "execution_count": null,
      "metadata": {
        "colab": {
          "base_uri": "https://localhost:8080/",
          "height": 519
        },
        "id": "VXGLDYBvj1rg",
        "outputId": "b16932a6-0df1-4eaf-e371-e5c3ffd25106"
      },
      "outputs": [],
      "source": [
        "cities = [[37.566687, 126.978417],\n",
        "          [35.179774, 129.075004],\n",
        "          [37.455900, 126.705522],\n",
        "          [35.871380, 128.601743],\n",
        "          [36.350451, 127.384827],\n",
        "          [35.160072, 126.851440]]\n",
        "\n",
        "m = folium.Map(\n",
        "    location = [36.577629, 127.770135],\n",
        "    tiles = \"stamen toner\",\n",
        "    zoom_start = 7\n",
        ")\n",
        "\n",
        "folium.Rectangle(\n",
        "    bounds = cities,\n",
        "    tooltip = \"Rectangle\",\n",
        ").add_to(m)\n",
        "\n",
        "m"
      ]
    },
    {
      "cell_type": "markdown",
      "metadata": {
        "id": "FDvvRnPAkETg"
      },
      "source": [
        "### 폴리곤(Polygon)"
      ]
    },
    {
      "cell_type": "code",
      "execution_count": null,
      "metadata": {
        "colab": {
          "base_uri": "https://localhost:8080/",
          "height": 519
        },
        "id": "v65m-8yUkIIT",
        "outputId": "7a9803f7-3ffb-4c4c-9ee3-4a43bf192b11"
      },
      "outputs": [],
      "source": [
        "cities = [[37.566687, 126.978417],\n",
        "          [35.179774, 129.075004],\n",
        "          [37.455900, 126.705522],\n",
        "          [35.871380, 128.601743],\n",
        "          [36.350451, 127.384827],\n",
        "          [35.160072, 126.851440]]\n",
        "\n",
        "m = folium.Map(\n",
        "    location = [36.577629, 127.770135],\n",
        "    tiles = \"stamen toner\",\n",
        "    zoom_start = 7\n",
        ")\n",
        "\n",
        "folium.Polygon(\n",
        "    locations = cities,\n",
        "    tooltip = \"Polygon\",\n",
        "    fill = True\n",
        ").add_to(m)\n",
        "\n",
        "m"
      ]
    },
    {
      "cell_type": "markdown",
      "metadata": {
        "id": "JMLK1aRL1f9-"
      },
      "source": [
        "### PolyLineTextPath"
      ]
    },
    {
      "cell_type": "code",
      "execution_count": null,
      "metadata": {
        "colab": {
          "base_uri": "https://localhost:8080/",
          "height": 519
        },
        "id": "0ZeWFXh90pDx",
        "outputId": "d8cd0688-dd3f-4737-b5e3-7f647edda0e7"
      },
      "outputs": [],
      "source": [
        "m = folium.Map(\n",
        "    location = [37, 127],\n",
        "    zoom_start = 5\n",
        ")\n",
        "\n",
        "wind_positions = [[32.587385, 133.058046],\n",
        "                [34.359654, 130.083293],\n",
        "                [35.570943, 127.200923],\n",
        "                [36.214572, 124.226170],\n",
        "                [36.348622, 121.916579],\n",
        "                [36.645685, 117.981036]]\n",
        "\n",
        "wind_line = folium.PolyLine(\n",
        "    locations = wind_positions,\n",
        "    weight = 20,\n",
        "    color = \"deepskyblue\"\n",
        ").add_to(m)\n",
        "\n",
        "plugins.PolyLineTextPath(\n",
        "    polyline = wind_line,\n",
        "    text = \") \",\n",
        "    repeat = True,\n",
        "    offset = 7,\n",
        "    attributes = {\"fill\": \"dodgerblue\", \"font-weight\": \"bold\", \"font-size\": \"24\"}\n",
        ").add_to(m)\n",
        "\n",
        "m"
      ]
    },
    {
      "cell_type": "code",
      "execution_count": null,
      "metadata": {
        "colab": {
          "base_uri": "https://localhost:8080/",
          "height": 519
        },
        "id": "U1_PFkmZ1ydc",
        "outputId": "26b4568d-ed7c-4463-89ce-fc56bf548c27"
      },
      "outputs": [],
      "source": [
        "marine_currents = [[42.398026, 132.300500],\n",
        "                   [41.670695, 130.674548],\n",
        "                   [40.458767, 130.305013],\n",
        "                   [39.595738, 128.845352],\n",
        "                   [38.375014, 129.344224],\n",
        "                   [37.295202, 129.880049],\n",
        "                   [36.065358, 130.0463339]]\n",
        "\n",
        "m = folium.Map()\n",
        "\n",
        "folium.plugins.AntPath(\n",
        "    locations = marine_currents,\n",
        "    reverse = \"Ture\",\n",
        "    dash_array = [20,20]\n",
        ").add_to(m)\n",
        "\n",
        "m.fit_bounds(m.get_bounds())\n",
        "\n",
        "m"
      ]
    },
    {
      "cell_type": "markdown",
      "metadata": {
        "id": "Sp7jORdEXZol"
      },
      "source": [
        "### 팝업(Popup)"
      ]
    },
    {
      "cell_type": "code",
      "execution_count": null,
      "metadata": {
        "colab": {
          "base_uri": "https://localhost:8080/",
          "height": 519
        },
        "id": "uYks_kK0zPu6",
        "outputId": "a5ec5f7f-46d6-48cb-d652-5b37668660cf"
      },
      "outputs": [],
      "source": [
        "m = folium.Map(\n",
        "    location = [37.566697, 126.978426],\n",
        "    tiles = \"stamen toner\",\n",
        "    zoom_start = 13\n",
        ")\n",
        "\n",
        "m.add_child(folium.LatLngPopup())"
      ]
    },
    {
      "cell_type": "code",
      "execution_count": null,
      "metadata": {
        "colab": {
          "base_uri": "https://localhost:8080/",
          "height": 519
        },
        "id": "wT5hd3GGg_f0",
        "outputId": "cd7fbbe6-3adb-450a-bedb-210f78ed1d0d"
      },
      "outputs": [],
      "source": [
        "m = folium.Map(\n",
        "    location = [37.566697, 126.978426],\n",
        "    tiles = \"stamen toner\",\n",
        "    zoom_start = 7\n",
        ")\n",
        "\n",
        "html = \"\"\"\n",
        "      <h1>Seoul</h1><br>\n",
        "      <p>\n",
        "      Seoul, officially the Seoul Special City, is the capital and largest metropolis of South Korea.\n",
        "      </p>\n",
        "      <a href = \"https://ko.wikipedia.org/wiki/%EC%84%9C%EC%9A%B8%ED%8A%B9%EB%B3%84%EC%8B%9C\" target= _blank>wikipedia</a>\n",
        "\"\"\"\n",
        "folium.Marker(\n",
        "    location = [37.566697, 126.978426],\n",
        "    popup = html\n",
        ").add_to(m)\n",
        "\n",
        "m"
      ]
    },
    {
      "cell_type": "code",
      "execution_count": null,
      "metadata": {
        "colab": {
          "base_uri": "https://localhost:8080/",
          "height": 519
        },
        "id": "Caka3hodkmf8",
        "outputId": "f324bad1-97bc-491f-9a61-ab1d73d06f54"
      },
      "outputs": [],
      "source": [
        "m = folium.Map(\n",
        "    location = [37.566697, 126.978426],\n",
        "    tiles = \"stamen toner\",\n",
        "    zoom_start = 7\n",
        ")\n",
        "\n",
        "df = pd.DataFrame(data =[[2000, 9879000],\n",
        "                         [2010, 9796000],\n",
        "                         [2020, 9963000]],\n",
        "                  columns = [\"year\",\"pop\"])\n",
        "\n",
        "html = df.to_html(classes = \"table table-striped table-hover table-condensed table-responsive\")\n",
        "\n",
        "folium.Marker(\n",
        "    location = [37.566697, 126.978426],\n",
        "    popup = html\n",
        ").add_to(m)\n",
        "\n",
        "m"
      ]
    },
    {
      "cell_type": "code",
      "execution_count": null,
      "metadata": {
        "colab": {
          "base_uri": "https://localhost:8080/",
          "height": 519
        },
        "id": "k8rxDqpJl57L",
        "outputId": "759c5433-40fe-4a1b-d470-224d294dd772"
      },
      "outputs": [],
      "source": [
        "m = folium.Map(\n",
        "    location = [37.566697, 126.978426],\n",
        "    tiles = \"stamen toner\",\n",
        "    zoom_start = 4\n",
        ")\n",
        "\n",
        "f = branca.element.Figure()\n",
        "folium.Map(\n",
        "    location = [37.566697, 126.978426],\n",
        "    tiles = \"stamen toner\",\n",
        "    zoom_start = 10\n",
        ").add_to(f)\n",
        "iframe = branca.element.IFrame(width = 500, height = 300)\n",
        "f.add_to(iframe)\n",
        "popup = folium.Popup(iframe, max_width = 2650)\n",
        "folium.Marker(\n",
        "    location = [37.566697, 126.978426],\n",
        "    popup = popup\n",
        ").add_to(m)\n",
        "\n",
        "m"
      ]
    },
    {
      "cell_type": "markdown",
      "metadata": {
        "id": "anH_LnqObB6B"
      },
      "source": [
        "### 마커 클러스터(Marker Cluster)"
      ]
    },
    {
      "cell_type": "code",
      "execution_count": null,
      "metadata": {
        "colab": {
          "base_uri": "https://localhost:8080/",
          "height": 519
        },
        "id": "zKyjxR10bESq",
        "outputId": "6b8cac20-aa1b-4bf6-91b5-1e535f8f68f3"
      },
      "outputs": [],
      "source": [
        "N = 100\n",
        "data = np.array(object = [np.random.uniform(low = 35.5,high = 37.5, size = N),\n",
        "                          np.random.uniform(low = 127, high = 129, size = N)]).T\n",
        "popups = [str(i) for i in range(N)]\n",
        "\n",
        "m = folium.Map([36.5, 128],zoom_start = 8)\n",
        "plugins.MarkerCluster(locations = data, popups = popups).add_to(m)\n",
        "\n",
        "m"
      ]
    },
    {
      "cell_type": "markdown",
      "metadata": {
        "id": "l_hEAoTgYGIq"
      },
      "source": [
        "### Vega(베가)"
      ]
    },
    {
      "cell_type": "code",
      "execution_count": null,
      "metadata": {
        "colab": {
          "base_uri": "https://localhost:8080/"
        },
        "id": "_BAuUTdmdg0y",
        "outputId": "cb4ef7c6-a95e-48d4-f1b5-e76ede32b4ae"
      },
      "outputs": [],
      "source": [
        "!pip install vincent"
      ]
    },
    {
      "cell_type": "code",
      "execution_count": null,
      "metadata": {
        "colab": {
          "base_uri": "https://localhost:8080/",
          "height": 519
        },
        "id": "EwI4LJ6lcnpy",
        "outputId": "73926cc2-6cfe-4c20-9aa6-db474423fd12"
      },
      "outputs": [],
      "source": [
        "import vincent\n",
        "\n",
        "scatter_points = {\n",
        "    \"x\": np.random.randn(50).cumsum(),\n",
        "    \"y\": np.random.randn(50).cumsum(),\n",
        "}\n",
        "scatter_chart = vincent.Scatter(scatter_points,\n",
        "                                iter_idx = \"x\",\n",
        "                                width = 400,\n",
        "                                height = 200)\n",
        "scatter_json = scatter_chart.to_json()\n",
        "scatter_dict = json.loads(scatter_json)\n",
        "\n",
        "m = folium.Map([36.5, 128], zoom_start = 7)\n",
        "\n",
        "popup = folium.Popup()\n",
        "folium.Vega(scatter_chart, height = 250, width = 450).add_to(popup)\n",
        "folium.Marker([36, 128], popup = popup).add_to(m)\n",
        "\n",
        "popup = folium.Popup()\n",
        "folium.Vega(scatter_json, height = 250, width = 450).add_to(popup)\n",
        "folium.Marker([37, 128], popup = popup).add_to(m)\n",
        "\n",
        "popup = folium.Popup()\n",
        "folium.Vega(scatter_dict, height = 250, width = 450).add_to(popup)\n",
        "folium.Marker([36.5, 127.5], popup = popup).add_to(m)\n",
        "\n",
        "m"
      ]
    },
    {
      "cell_type": "markdown",
      "metadata": {
        "id": "KH4sO069WkH-"
      },
      "source": [
        "* https://raw.githubusercontent.com/python-visualization/folium/master/examples/data\n",
        "  + vis1.json - [47.3489, -124.708]\n",
        "  + vis2.json - [44.639, -124.5339]\n",
        "  + vis3.json - [46.216, -124.1280]"
      ]
    },
    {
      "cell_type": "code",
      "execution_count": null,
      "metadata": {
        "colab": {
          "base_uri": "https://localhost:8080/",
          "height": 519
        },
        "id": "z8PuJFHYztVw",
        "outputId": "a25d7d18-b9c9-4655-c355-9ccf4430e952"
      },
      "outputs": [],
      "source": [
        "url = \"https://raw.githubusercontent.com/python-visualization/folium/master/examples/data\"\n",
        "vis1 = json.loads(requests.get(f\"{url}/vis1.json\").text)\n",
        "vis2 = json.loads(requests.get(f\"{url}/vis2.json\").text)\n",
        "vis3 = json.loads(requests.get(f\"{url}/vis3.json\").text)\n",
        "\n",
        "m = folium.Map(\n",
        "    location = [47.3489, -124.708],\n",
        "    zoom_start = 7,\n",
        "    tiles = \"stamen toner\"\n",
        ")\n",
        "\n",
        "folium.Marker(\n",
        "    location =  [47.3489, -124.708],\n",
        "    popup = folium.Popup(max_width = 450).add_child(\n",
        "        folium.Vega(vis1, width = 450, height = 250))\n",
        ").add_to(m)\n",
        "\n",
        "folium.Marker(\n",
        "    location =  [44.639, -124.5339],\n",
        "    popup = folium.Popup(max_width = 450).add_child(\n",
        "        folium.Vega(vis2, width = 450, height = 250))\n",
        ").add_to(m)\n",
        "\n",
        "folium.Marker(\n",
        "    location =  [46.216, -124.1280],\n",
        "    popup = folium.Popup(max_width = 450).add_child(\n",
        "        folium.Vega(vis3, width = 450, height = 250))\n",
        ").add_to(m)\n",
        "\n",
        "m"
      ]
    },
    {
      "cell_type": "code",
      "execution_count": null,
      "metadata": {
        "colab": {
          "base_uri": "https://localhost:8080/",
          "height": 519
        },
        "id": "h0dopMQiOMpa",
        "outputId": "c1a6ecb2-77c6-4d9d-9c12-d741de1c6c72"
      },
      "outputs": [],
      "source": [
        "m = folium.Map(\n",
        "    location = [37.521628, 126.924127],\n",
        "    zoom_start = 15\n",
        ")\n",
        "\n",
        "lines = [\n",
        "          {\"coordinates\" : [[126.924127, 37.521628],\n",
        "                            [126.921754, 37.524117]],\n",
        "           \"dates\" : [\"2023-01-01T00:00:00\", \"2023-01-01T00:10:00\"],\n",
        "           \"color\": \"red\"\n",
        "           },\n",
        "          {\"coordinates\" : [[126.921754, 37.524117],\n",
        "                            [126.926168, 37.526768]],\n",
        "           \"dates\" : [\"2023-01-01T00:10:00\", \"2023-01-01T00:20:00\"],\n",
        "           \"color\": \"green\", \"weight\": 3\n",
        "           },\n",
        "          {\"coordinates\" : [[126.926168, 37.526768],\n",
        "                            [126.928490, 37.524340]],\n",
        "           \"dates\" : [\"2023-01-01T00:20:00\", \"2023-01-01T00:30:00\"],\n",
        "           \"color\": \"blue\", \"weight\": 10\n",
        "           },\n",
        "          {\"coordinates\" : [[126.928490, 37.524340],\n",
        "                            [126.924127, 37.521628]],\n",
        "           \"dates\" : [\"2023-01-01T00:30:00\", \"2023-01-01T00:40:00\"],\n",
        "           \"color\": \"black\"\n",
        "           },\n",
        "          ]\n",
        "\n",
        "features = [\n",
        "              {\"type\": \"Feature\",\n",
        "               \"geometry\": {\n",
        "                  \"type\": \"LineString\",\n",
        "                  \"coordinates\": line[\"coordinates\"],\n",
        "               },\n",
        "               \"properties\": {\n",
        "                  \"times\": line[\"dates\"],\n",
        "                  \"style\": {\n",
        "                      \"color\": line[\"color\"],\n",
        "                      \"weight\": line[\"weight\"] if \"weight\" in line else 5\n",
        "                  }\n",
        "                }\n",
        "               } for line in lines\n",
        "]\n",
        "\n",
        "plugins.TimestampedGeoJson({\n",
        "    \"type\" : \"FeatureCollection\",\n",
        "    \"features\" : features,\n",
        "}, period = \"PT1M\", add_last_point=True).add_to(m)\n",
        "\n",
        "m"
      ]
    },
    {
      "cell_type": "markdown",
      "metadata": {
        "id": "kjG-KuLvz_Bb"
      },
      "source": [
        "## 스타일(Style)"
      ]
    },
    {
      "cell_type": "markdown",
      "metadata": {
        "id": "OfYT1rsb5Q6k"
      },
      "source": [
        "### 타일(Tiles)"
      ]
    },
    {
      "cell_type": "markdown",
      "metadata": {
        "id": "myZ0_7Hi5ZFr"
      },
      "source": [
        "* Map Tiles\n",
        "  + OpenStreetMap\n",
        "  + Stamen Terrain\n",
        "  + Stamen Toner\n",
        "  + Stamen Watercolor\n",
        "  + CartoDB positron\n",
        "  + CartoDB dark_matter"
      ]
    },
    {
      "cell_type": "code",
      "execution_count": null,
      "metadata": {
        "colab": {
          "base_uri": "https://localhost:8080/",
          "height": 519
        },
        "id": "VRjou0YM5Tv_",
        "outputId": "0157349f-9100-4f4b-b52a-a5427880f6ad"
      },
      "outputs": [],
      "source": [
        "m = folium.Map(\n",
        "    location = [37,128],\n",
        "    titles = \"OpenStreetMap\",\n",
        "    zoom_start = 4\n",
        ")\n",
        "\n",
        "m"
      ]
    },
    {
      "cell_type": "markdown",
      "metadata": {
        "id": "b09TE6E4dSP7"
      },
      "source": [
        "### 위치(Position)"
      ]
    },
    {
      "cell_type": "code",
      "execution_count": null,
      "metadata": {
        "colab": {
          "base_uri": "https://localhost:8080/",
          "height": 519
        },
        "id": "Olpg9-madVhY",
        "outputId": "cc8eead9-2148-4bad-9cd1-bdae46d6d0c3"
      },
      "outputs": [],
      "source": [
        "from folium.plugins import MousePosition\n",
        "\n",
        "m = folium.Map()\n",
        "MousePosition().add_to(m)\n",
        "m"
      ]
    },
    {
      "cell_type": "code",
      "execution_count": null,
      "metadata": {
        "colab": {
          "base_uri": "https://localhost:8080/",
          "height": 519
        },
        "id": "ErGH7jpgdlma",
        "outputId": "33ca84f4-ca95-494e-b6b6-46d9bc579914"
      },
      "outputs": [],
      "source": [
        "m = folium.Map()\n",
        "formatter = \"function(num) {return  L.Util.formatNum(num, 3);};\"\n",
        "MousePosition(\n",
        "    position = \"topright\",\n",
        "    separator = \" | \",\n",
        "    empty_string= \"NaN\",\n",
        "    lng_first = True,\n",
        "    num_digits = 20,\n",
        "    prefix = \"coordinates: \",\n",
        "    lat_formatter = formatter,\n",
        "    lng_formatter = formatter\n",
        ").add_to(m)\n",
        "\n",
        "m"
      ]
    },
    {
      "cell_type": "markdown",
      "metadata": {
        "id": "BHMUGd2Qemcz"
      },
      "source": [
        "### 터미네이터(Terminator)"
      ]
    },
    {
      "cell_type": "code",
      "execution_count": null,
      "metadata": {
        "colab": {
          "base_uri": "https://localhost:8080/",
          "height": 519
        },
        "id": "u1r53oUJep1f",
        "outputId": "8d52ecbf-7b19-4a41-847b-ee08d5f85c64"
      },
      "outputs": [],
      "source": [
        "m =folium.Map(zoom_start = 1)\n",
        "\n",
        "plugins.Terminator().add_to(m)\n",
        "\n",
        "m"
      ]
    },
    {
      "cell_type": "markdown",
      "metadata": {
        "id": "Y9GJGsFBe4kr"
      },
      "source": [
        "### 측정 제어(Measure Control)"
      ]
    },
    {
      "cell_type": "code",
      "execution_count": null,
      "metadata": {
        "colab": {
          "base_uri": "https://localhost:8080/",
          "height": 519
        },
        "id": "5FXyt1Sje9jL",
        "outputId": "00ada9e7-ca75-4380-edbb-f9f4bd941050"
      },
      "outputs": [],
      "source": [
        "from folium.plugins import MeasureControl\n",
        "\n",
        "m = folium.Map(\n",
        "    location = [36.5, 127],\n",
        "    zoom_start = 10)\n",
        "m.add_child(MeasureControl())\n",
        "\n",
        "m"
      ]
    },
    {
      "cell_type": "markdown",
      "metadata": {
        "id": "pWjmhTh0fYbE"
      },
      "source": [
        "### 그리기(Draw)"
      ]
    },
    {
      "cell_type": "code",
      "execution_count": null,
      "metadata": {
        "colab": {
          "base_uri": "https://localhost:8080/",
          "height": 519
        },
        "id": "16m10Arxfb_A",
        "outputId": "819b5c7f-105f-442a-8109-6a64d8aa8945"
      },
      "outputs": [],
      "source": [
        "from folium.plugins import Draw\n",
        "\n",
        "m = folium.Map()\n",
        "draw = Draw()\n",
        "draw.add_to(m)\n",
        "\n",
        "m"
      ]
    },
    {
      "cell_type": "markdown",
      "metadata": {
        "id": "D563XUe4WwcW"
      },
      "source": [
        "### 그룹(Group)"
      ]
    },
    {
      "cell_type": "code",
      "execution_count": null,
      "metadata": {
        "colab": {
          "base_uri": "https://localhost:8080/",
          "height": 519
        },
        "id": "4AOwkCM7W0KE",
        "outputId": "8c5f269c-9c44-4b83-da25-9be17b8c1e30"
      },
      "outputs": [],
      "source": [
        "m = folium.Map(\n",
        "    location = [0,0],\n",
        "    zoom_start = 6\n",
        ")\n",
        "gs = folium.FeatureGroup(name = \"Groups\")\n",
        "m.add_child(gs)\n",
        "g1 = plugins.FeatureGroupSubGroup(gs, \"Group1\")\n",
        "m.add_child(g1)\n",
        "g2 = plugins.FeatureGroupSubGroup(gs, \"Group2\")\n",
        "m.add_child(g2)\n",
        "\n",
        "folium.Marker([-2, -2]).add_to(g1)\n",
        "folium.Marker([2, 2]).add_to(g1)\n",
        "folium.Marker([-2, 2]).add_to(g2)\n",
        "folium.Marker([2, -2]).add_to(g2)\n",
        "folium.LayerControl(collapsed =False).add_to(m)\n",
        "\n",
        "m"
      ]
    },
    {
      "cell_type": "markdown",
      "metadata": {
        "id": "fLOTnQjYboVX"
      },
      "source": [
        "## 듀얼맵(Dualmap)"
      ]
    },
    {
      "cell_type": "code",
      "execution_count": null,
      "metadata": {
        "colab": {
          "base_uri": "https://localhost:8080/",
          "height": 519
        },
        "id": "dgl86qk_bq2s",
        "outputId": "3a707fb8-c101-4265-c467-50e2da0a7bea"
      },
      "outputs": [],
      "source": [
        "m = folium.plugins.DualMap(location=(37, 127), zoom_start = 8)\n",
        "m"
      ]
    },
    {
      "cell_type": "code",
      "execution_count": null,
      "metadata": {
        "colab": {
          "base_uri": "https://localhost:8080/",
          "height": 519
        },
        "id": "Ot6F6HrrcFw8",
        "outputId": "1803c73f-cfb8-4c82-9060-72f35abef94b"
      },
      "outputs": [],
      "source": [
        "m = folium.plugins.DualMap(location=(37, 127), tiles = None, zoom_start = 8)\n",
        "\n",
        "folium.TileLayer(\"OpenStreetMap\").add_to(m.m1)\n",
        "folium.TileLayer(\"CartoDBPositron\").add_to(m.m2)\n",
        "folium.LayerControl(collapsed = False).add_to(m)\n",
        "\n",
        "m"
      ]
    },
    {
      "cell_type": "code",
      "execution_count": null,
      "metadata": {
        "colab": {
          "base_uri": "https://localhost:8080/",
          "height": 519
        },
        "id": "i7Ncdq45ciU9",
        "outputId": "2e56491f-e079-46ec-d35e-0e4c07510db8"
      },
      "outputs": [],
      "source": [
        "m = folium.plugins.DualMap(location=(37, 127), zoom_start = 8)\n",
        "\n",
        "fg_both = folium.FeatureGroup(name = \"Markers Both\").add_to(m)\n",
        "fg_1 = folium.FeatureGroup(name = \"Markers 1\").add_to(m.m1)\n",
        "fg_2 = folium.FeatureGroup(name = \"Markers 2\").add_to(m.m2)\n",
        "icon_red = folium.Icon(color = \"red\")\n",
        "folium.Marker(location = [37.5,127], tooltip = \"Both\", icon = icon_red).add_to(fg_both)\n",
        "folium.Marker(location = [37,127.5], tooltip = \"1\").add_to(fg_1)\n",
        "folium.Marker(location = [36.5,127], tooltip = \"2\").add_to(fg_2)\n",
        "folium.LayerControl(collapsed = False).add_to(m)\n",
        "\n",
        "m"
      ]
    },
    {
      "cell_type": "code",
      "execution_count": null,
      "metadata": {
        "colab": {
          "base_uri": "https://localhost:8080/",
          "height": 519
        },
        "id": "3J1uR0jZc-vl",
        "outputId": "622928fe-0da9-4aae-d983-1cb4cf150d5c"
      },
      "outputs": [],
      "source": [
        "m = folium.plugins.DualMap(layout = \"vertical\")\n",
        "\n",
        "m"
      ]
    },
    {
      "cell_type": "markdown",
      "metadata": {
        "id": "3pOgkGnVYrMI"
      },
      "source": [
        "## 미니맵(Minimap)"
      ]
    },
    {
      "cell_type": "code",
      "execution_count": null,
      "metadata": {
        "colab": {
          "base_uri": "https://localhost:8080/",
          "height": 519
        },
        "id": "kRiF9C70YtNA",
        "outputId": "5bcccd4f-41b6-414f-8c67-50d559b82851"
      },
      "outputs": [],
      "source": [
        "m = folium.Map(location = [36.5, 127], zoom_start = 8)\n",
        "\n",
        "minimap = plugins.MiniMap()\n",
        "\n",
        "m.add_child(minimap)"
      ]
    },
    {
      "cell_type": "markdown",
      "metadata": {
        "id": "6LT-pxM3TeaW"
      },
      "source": [
        "## 히트맵(Heatmap)"
      ]
    },
    {
      "cell_type": "code",
      "execution_count": null,
      "metadata": {
        "colab": {
          "base_uri": "https://localhost:8080/",
          "height": 519
        },
        "id": "O9zzBzdjTgwb",
        "outputId": "32bf6e69-42c0-4cb9-a0d6-d392df653ad4"
      },
      "outputs": [],
      "source": [
        "from folium.plugins import HeatMap\n",
        "\n",
        "cities = [[37.566687, 126.978417],\n",
        "          [35.179774, 129.075004],\n",
        "          [37.455900, 126.705522],\n",
        "          [35.871380, 128.601743],\n",
        "          [36.350451, 127.384827],\n",
        "          [35.160072, 126.851440]]\n",
        "\n",
        "m = folium.Map(location = [36.5, 127],\n",
        "               zoom_start = 7,\n",
        "               tiles = \"Stamen Toner\")\n",
        "\n",
        "HeatMap(cities).add_to(m)\n",
        "\n",
        "m"
      ]
    },
    {
      "cell_type": "code",
      "execution_count": null,
      "metadata": {
        "colab": {
          "base_uri": "https://localhost:8080/",
          "height": 519
        },
        "id": "6cKLAySsAGEb",
        "outputId": "4b18d36c-9b49-450c-9233-6cd2e22cdf14"
      },
      "outputs": [],
      "source": [
        "from folium.plugins import HeatMap\n",
        "\n",
        "data = (\n",
        "    np.random.normal(size =(100,3)) *\n",
        "    np.array([[1, 0.5, 1]]) +\n",
        "    np.array([[37, 128, 1]])\n",
        ")\n",
        "\n",
        "m = folium.Map(location = [36.5, 127],\n",
        "               zoom_start = 7,\n",
        "               tiles = \"Stamen Toner\")\n",
        "\n",
        "HeatMap(data).add_to(m)\n",
        "\n",
        "m"
      ]
    },
    {
      "cell_type": "markdown",
      "metadata": {
        "id": "trmYObJyz2F2"
      },
      "source": [
        "## GeoJson, TopoJson, Choropleth maps"
      ]
    },
    {
      "cell_type": "markdown",
      "metadata": {
        "id": "bFH7kxrzVp-j"
      },
      "source": [
        "* https://raw.githubusercontent.com/python-visualization/folium/master/examples/data\n",
        "  + us-states.json\n",
        "  + US_Unemployment_Oct2012.csv"
      ]
    },
    {
      "cell_type": "code",
      "execution_count": null,
      "metadata": {
        "colab": {
          "base_uri": "https://localhost:8080/",
          "height": 1000
        },
        "id": "oxtx9qfiB5nB",
        "outputId": "b4b883f8-05f2-4c3e-b5ce-3ef71a18beab"
      },
      "outputs": [],
      "source": [
        "url = \"https://raw.githubusercontent.com/python-visualization/folium/master/examples/data\"\n",
        "state_geo = f'{url}/us-states.json'\n",
        "state_unemployment = f\"{url}/US_Unemployment_Oct2012.csv\"\n",
        "state_data = pd.read_csv(state_unemployment)\n",
        "state_data"
      ]
    },
    {
      "cell_type": "code",
      "execution_count": null,
      "metadata": {
        "colab": {
          "base_uri": "https://localhost:8080/",
          "height": 61
        },
        "id": "jX6LR0AYCcyz",
        "outputId": "705aecdf-f630-4ad5-aef2-f3f3ce02d7c2"
      },
      "outputs": [],
      "source": [
        "from branca.colormap import linear\n",
        "\n",
        "colormap = linear.YlGnBu_09.scale(\n",
        "    state_data.Unemployment.min(),\n",
        "    state_data.Unemployment.max()\n",
        ")\n",
        "\n",
        "colormap"
      ]
    },
    {
      "cell_type": "code",
      "execution_count": null,
      "metadata": {
        "colab": {
          "base_uri": "https://localhost:8080/"
        },
        "id": "4XMukQVbC6KE",
        "outputId": "19d9596f-2cff-4c7b-bb7c-9527b6084773"
      },
      "outputs": [],
      "source": [
        "state_data_dict = state_data.set_index(\"State\")[\"Unemployment\"]\n",
        "state_data_dict"
      ]
    },
    {
      "cell_type": "code",
      "execution_count": null,
      "metadata": {
        "colab": {
          "base_uri": "https://localhost:8080/",
          "height": 519
        },
        "id": "YpH_ddArBsB3",
        "outputId": "b1452649-851b-47a9-e999-b14d2d30c148"
      },
      "outputs": [],
      "source": [
        "m = folium.Map([43, -100], zoom_start = 4)\n",
        "\n",
        "folium.GeoJson(\n",
        "    data = state_geo,\n",
        "    name = \"umemploynet\",\n",
        "    style_function = lambda feature : {\n",
        "        \"fillColor\" : colormap(state_data_dict[feature[\"id\"]]),\n",
        "        \"color\" : \"black\",\n",
        "        \"weight\" : 1,\n",
        "        \"dashArray\" : \"5,5\",\n",
        "        \"fillOpacity\" : 0.6,\n",
        "    }\n",
        ").add_to(m)\n",
        "\n",
        "folium.LayerControl().add_to(m)\n",
        "\n",
        "m"
      ]
    },
    {
      "cell_type": "code",
      "execution_count": null,
      "metadata": {
        "id": "z8aldOZYzzpf"
      },
      "outputs": [],
      "source": [
        "m = folium.Map([43, -100], zoom_start = 4)\n",
        "\n",
        "folium.Choropleth(\n",
        "    geo_data = state_geo,\n",
        "    data = state_data,\n",
        "    columns = [\"State\", \"Unemployment\"],\n",
        "    key_on = \"feature.id\",\n",
        "    fill_color = \"YlGnBu\",\n",
        "    fill_opacity = 0.6,\n",
        "    line_opacity = 0.2,\n",
        "    legend_name = \"Unemployment Rate (%)\"\n",
        ").add_to(m)\n",
        "\n",
        "folium.LayerControl().add_to(m)\n",
        "\n",
        "m"
      ]
    },
    {
      "cell_type": "code",
      "execution_count": null,
      "metadata": {
        "id": "k5tfWuvjz5Ij"
      },
      "outputs": [],
      "source": [
        "bins = list(state_data[\"Unemployment\"].quantile([0, 0.25, 0.5, 0.75,1]))\n",
        "\n",
        "m = folium.Map([43, -100], zoom_start = 4)\n",
        "\n",
        "folium.Choropleth(\n",
        "    geo_data = state_geo,\n",
        "    data = state_data,\n",
        "    columns = [\"State\", \"Unemployment\"],\n",
        "    key_on = \"feature.id\",\n",
        "    fill_color = \"YlOrBr\",\n",
        "    fill_opacity = 0.6,\n",
        "    line_opacity = 0.2,\n",
        "    legend_name = \"Unemployment Rate (%)\",\n",
        "    bins = bins\n",
        ").add_to(m)\n",
        "\n",
        "folium.LayerControl().add_to(m)\n",
        "\n",
        "m"
      ]
    },
    {
      "cell_type": "markdown",
      "metadata": {
        "id": "hwi-QfMZo3So"
      },
      "source": [
        "* South Korea github: https://github.com/southkorea\n",
        "* 서울 열린데이터 광장: https://data.seoul.go.kr/\n",
        "\n",
        "* 서울시 지도: https://raw.githubusercontent.com/suanlab/dataset/master/seoul_municipalities_geo_simple.json\n",
        "* 서울시 인구수: https://raw.githubusercontent.com/suanlab/dataset/master/seoul_population.csv"
      ]
    },
    {
      "cell_type": "code",
      "execution_count": null,
      "metadata": {
        "id": "58QnyODlMeZ4"
      },
      "outputs": [],
      "source": [
        "url = \"https://raw.githubusercontent.com/suanlab/dataset/master\"\n",
        "seoul_geo = f\"{url}/seoul_municipalities_geo_simple.json\"\n",
        "seoul_population = f\"{url}/seoul_population.csv\"\n",
        "seoul_data = pd.read_csv(seoul_population, encoding = \"UTF-8\")\n",
        "seoul_data"
      ]
    },
    {
      "cell_type": "code",
      "execution_count": null,
      "metadata": {
        "id": "xJhXVpdHm_4s"
      },
      "outputs": [],
      "source": [
        "m = folium.Map(\n",
        "    location = [37.528043, 126.980238],\n",
        "    zoom_start = 10\n",
        ")\n",
        "\n",
        "folium.GeoJson(\n",
        "    json.loads(requests.get(seoul_geo).text),\n",
        "    name = \"seoul_municipalities\"\n",
        ").add_to(m)\n",
        "\n",
        "m"
      ]
    },
    {
      "cell_type": "code",
      "execution_count": null,
      "metadata": {
        "id": "eTmHQ5TmEkwo"
      },
      "outputs": [],
      "source": [
        "colormap = linear.Blues_09.scale(\n",
        "    seoul_data.population.min(),\n",
        "    seoul_data.population.max()\n",
        ")\n",
        "\n",
        "colormap"
      ]
    },
    {
      "cell_type": "code",
      "execution_count": null,
      "metadata": {
        "id": "pe_ZRhjLE_Z2"
      },
      "outputs": [],
      "source": [
        "population_dict = seoul_data.set_index(\"name\")[\"population\"]\n",
        "color_dict = {str(key): colormap(population_dict[key]) for key in population_dict.keys()}\n",
        "color_dict"
      ]
    },
    {
      "cell_type": "code",
      "execution_count": null,
      "metadata": {
        "id": "hWngGMjOE4gU"
      },
      "outputs": [],
      "source": [
        "m = folium.Map(\n",
        "    location = [37.528043, 126.980238],\n",
        "    zoom_start = 11\n",
        ")\n",
        "\n",
        "folium.GeoJson(\n",
        "    #json.loads(requests.get(seoul_geo).text),\n",
        "    seoul_geo,\n",
        "    name = \"population\",\n",
        "    style_function = lambda feature: {\n",
        "        \"fillColor\" : color_dict[feature[\"properties\"][\"name\"]],\n",
        "        \"color\" : \"black\",\n",
        "        \"weight\" : 1,\n",
        "        \"dashArray\" : \"5,5\",\n",
        "        \"fillOpacity\" : 0.6\n",
        "}\n",
        ").add_to(m)\n",
        "\n",
        "colormap.caption = \"Population color scale\"\n",
        "colormap.add_to(m)\n",
        "\n",
        "folium.LayerControl().add_to(m)\n",
        "\n",
        "m"
      ]
    },
    {
      "cell_type": "code",
      "execution_count": null,
      "metadata": {
        "id": "Lw5EnwseIzmV"
      },
      "outputs": [],
      "source": [
        "m = folium.Map(\n",
        "    location = [37.528043, 126.980238],\n",
        "    zoom_start = 11\n",
        ")\n",
        "\n",
        "folium.Choropleth(\n",
        "    #json.loads(requests.get(seoul_geo).text),\n",
        "    geo_data = seoul_geo,\n",
        "    data = seoul_data,\n",
        "    columns = [\"name\", \"population\"],\n",
        "    key_on = \"properties.name\",\n",
        "    fill_color = \"Blues\",\n",
        "    fill_opacity = 0.6,\n",
        "    line_opacity = 0.4,\n",
        "    legend_name = \"Population\"\n",
        ").add_to(m)\n",
        "\n",
        "m"
      ]
    },
    {
      "cell_type": "markdown",
      "metadata": {
        "id": "E5GRa0B_5Mjx"
      },
      "source": [
        "* South Korea github: https://github.com/southkorea\n",
        "* 국가통계포털: http://kosis.kr\n",
        "* 전국시도 지도: https://raw.githubusercontent.com/suanlab/dataset/master/skorea-provinces-2018-geo.json\n",
        "* 전국시도 인구수: https://raw.githubusercontent.com/suanlab/dataset/master/skorea_provinces_population.csv"
      ]
    },
    {
      "cell_type": "code",
      "execution_count": null,
      "metadata": {
        "id": "9_a9h0tkczDB"
      },
      "outputs": [],
      "source": [
        "url = \"https://raw.githubusercontent.com/suanlab/dataset/master\"\n",
        "skorea_provinces_geo = f\"{url}/skorea-provinces-2018-geo.json\"\n",
        "skorea_provinces_population = f\"{url}/skorea_provinces_population.csv\"\n",
        "skorea_provinces_df = pd.read_csv(skorea_provinces_population, encoding = \"UTF-8\")\n",
        "skorea_provinces_df"
      ]
    },
    {
      "cell_type": "code",
      "execution_count": null,
      "metadata": {
        "id": "dMpeuHI95HTG"
      },
      "outputs": [],
      "source": [
        "m = folium.Map(\n",
        "    location = [36.320329, 127.861451],\n",
        "    zoom_start = 7\n",
        ")\n",
        "\n",
        "folium.GeoJson(\n",
        "    skorea_provinces_geo,\n",
        "    name = \"skorea-provinces\"\n",
        ").add_to(m)\n",
        "\n",
        "m"
      ]
    },
    {
      "cell_type": "code",
      "execution_count": null,
      "metadata": {
        "id": "FkxegZwGFNX1"
      },
      "outputs": [],
      "source": [
        "m = folium.Map(\n",
        "    location = [36.320329, 127.861451],\n",
        "    zoom_start = 7\n",
        ")\n",
        "\n",
        "folium.Choropleth(\n",
        "    geo_data = skorea_provinces_geo,\n",
        "    data = skorea_provinces_df,\n",
        "    columns=[\"name\", \"population\"],\n",
        "    key_on = \"feature.properties.name\",\n",
        "    fill_color = \"OrRd\",\n",
        "    fill_opacity = 0.6,\n",
        "    line_opacity = 0.4,\n",
        "    legend_name = \"popilation\"\n",
        ").add_to(m)\n",
        "\n",
        "m"
      ]
    },
    {
      "cell_type": "markdown",
      "metadata": {
        "id": "Mggb32BJF3UP"
      },
      "source": [
        "* South Korea github: https://github.com/southkorea\n",
        "* 국가통계포털: http://kosis.kr\n",
        "* 행정구역 지도: https://raw.githubusercontent.com/suanlab/dataset/master/skorea-municipalities-2018-geo.json\n",
        "* 행정구역 인구수: https://raw.githubusercontent.com/suanlab/dataset/master/skorea_municipalities_population.csv"
      ]
    },
    {
      "cell_type": "code",
      "execution_count": null,
      "metadata": {
        "id": "z-_MvqSveGNX"
      },
      "outputs": [],
      "source": [
        "url = \"https://raw.githubusercontent.com/suanlab/dataset/master\"\n",
        "skorea_municipalities_geo = f\"{url}/skorea-municipalities-2018-geo.json\"\n",
        "skorea_municipalities_population = f\"{url}/skorea_municipalities_population.csv\"\n",
        "skorea_municipalities_df = pd.read_csv(skorea_municipalities_population, encoding = \"UTF-8\")\n",
        "skorea_municipalities_df"
      ]
    },
    {
      "cell_type": "code",
      "execution_count": null,
      "metadata": {
        "id": "CUwclGnOF3uC"
      },
      "outputs": [],
      "source": [
        "m = folium.Map(\n",
        "    location = [36.320329, 127.861451],\n",
        "    zoom_start = 7\n",
        ")\n",
        "\n",
        "folium.GeoJson(\n",
        "    skorea_municipalities_geo,\n",
        "    name = \"skorea_municipalities\"\n",
        ").add_to(m)\n",
        "\n",
        "m"
      ]
    },
    {
      "cell_type": "code",
      "execution_count": null,
      "metadata": {
        "id": "P4-7BMqzLEup"
      },
      "outputs": [],
      "source": [
        "m = folium.Map(\n",
        "    location = [36.320329, 127.861451],\n",
        "    zoom_start = 7\n",
        ")\n",
        "\n",
        "folium.Choropleth(\n",
        "    geo_data = skorea_municipalities_geo,\n",
        "    data = skorea_municipalities_df,\n",
        "    columns=[\"name\", \"population\"],\n",
        "    key_on = \"feature.properties.name\",\n",
        "    fill_color = \"Reds\",\n",
        "    fill_opacity = 0.6,\n",
        "    line_opacity = 0.4,\n",
        "    legend_name = \"popilation\"\n",
        ").add_to(m)\n",
        "\n",
        "m"
      ]
    },
    {
      "cell_type": "markdown",
      "metadata": {
        "id": "Y3rIC1krYdgc"
      },
      "source": [
        "* https://raw.githubusercontent.com/python-visualization/folium/master/examples/data\n",
        "  + us_county_data.csv\n",
        "  + us_counties_20m_topo.json"
      ]
    },
    {
      "cell_type": "code",
      "execution_count": null,
      "metadata": {
        "id": "8jr9arZ-hR3b"
      },
      "outputs": [],
      "source": [
        "url = \"https://raw.githubusercontent.com/python-visualization/folium/master/examples/data\"\n",
        "county_geo = f\"{url}/us_counties_20m_topo.json\"\n",
        "county_data = f\"{url}/us_county_data.csv\"\n",
        "df = pd.read_csv(county_data, na_values=[\" \"])\n",
        "\n",
        "df"
      ]
    },
    {
      "cell_type": "code",
      "execution_count": null,
      "metadata": {
        "id": "zVwdHVL7z8wc"
      },
      "outputs": [],
      "source": [
        "colorscale = branca.colormap.linear.PuBuGn_09.scale(0, 50e3)\n",
        "employed_series = df.set_index(\"FIPS_Code\")[\"Employed_2011\"]\n",
        "\n",
        "def style_function(feature):\n",
        "    employed = employed_series.get(int(feature[\"id\"][-5:]), None)\n",
        "    return {\n",
        "        \"fillOpacity\" : 0.5,\n",
        "        \"weight\" : 0,\n",
        "        \"fillColor\" : \"#black\" if employed is None else colorscale(employed)\n",
        "}\n",
        "    \n",
        "m = folium.Map(\n",
        "    location = [48, -102],\n",
        "    zoom_start = 3\n",
        ")\n",
        "\n",
        "folium.TopoJson(\n",
        "    json.loads(requests.get(county_geo).text),\n",
        "    \"objects.us_counties_20m\",\n",
        "    style_function = style_function\n",
        ").add_to(m)\n",
        "\n",
        "m"
      ]
    },
    {
      "cell_type": "code",
      "execution_count": null,
      "metadata": {
        "id": "hY0mbU_y0Bky"
      },
      "outputs": [],
      "source": [
        "colorscale = branca.colormap.linear.OrRd_09.scale(0, 30)\n",
        "unemployed_series = df.set_index(\"FIPS_Code\")[\"Unemployment_rate_2011\"]\n",
        "\n",
        "def style_function(feature):\n",
        "    unemployed = unemployed_series.get(int(feature[\"id\"][-5:]), None)\n",
        "    return {\n",
        "        \"fillOpacity\" : 0.5,\n",
        "        \"weight\" : 0,\n",
        "        \"fillColor\" : \"#black\" if unemployed is None else colorscale(unemployed)\n",
        "}\n",
        "    \n",
        "m = folium.Map(\n",
        "    location = [48, -102],\n",
        "    zoom_start = 3\n",
        ")\n",
        "\n",
        "folium.TopoJson(\n",
        "    json.loads(requests.get(county_geo).text),\n",
        "    \"objects.us_counties_20m\",\n",
        "    style_function = style_function\n",
        ").add_to(m)\n",
        "\n",
        "m"
      ]
    },
    {
      "cell_type": "code",
      "execution_count": null,
      "metadata": {
        "id": "3PFe1gYB0Edb"
      },
      "outputs": [],
      "source": [
        "colorscale = branca.colormap.linear.GnBu_09.scale(0, 100000)\n",
        "Income_series = df.set_index(\"FIPS_Code\")[\"Median_Household_Income_2011\"].dropna()\n",
        "\n",
        "def style_function(feature):\n",
        "    Income = Income_series.get(int(feature[\"id\"][-5:]), None)\n",
        "    return {\n",
        "        \"fillOpacity\" : 0.5,\n",
        "        \"weight\" : 0,\n",
        "        \"fillColor\" : \"#black\" if Income is None else colorscale(Income)\n",
        "}\n",
        "    \n",
        "m = folium.Map(\n",
        "    location = [48, -102],\n",
        "    zoom_start = 3\n",
        ")\n",
        "\n",
        "folium.TopoJson(\n",
        "    json.loads(requests.get(county_geo).text),\n",
        "    \"objects.us_counties_20m\",\n",
        "    style_function = style_function\n",
        ").add_to(m)\n",
        "\n",
        "m"
      ]
    },
    {
      "cell_type": "markdown",
      "metadata": {
        "id": "O8Cy3xtdMmDF"
      },
      "source": [
        "## 대화형(Interactive)\n",
        "\n",
        "* OpenStreetMap\n",
        "* Stamen Terrain\n",
        "* Stamen Toner\n",
        "* Stamen Watercolor\n",
        "* CartoDB positron\n",
        "* CartoDB dark_matter"
      ]
    },
    {
      "cell_type": "code",
      "execution_count": null,
      "metadata": {},
      "outputs": [],
      "source": [
        "#!python -m pip install ipywidgets"
      ]
    },
    {
      "cell_type": "code",
      "execution_count": null,
      "metadata": {
        "id": "a9swc-37Mhzu"
      },
      "outputs": [],
      "source": [
        "from ipywidgets import interact"
      ]
    },
    {
      "cell_type": "code",
      "execution_count": null,
      "metadata": {},
      "outputs": [],
      "source": [
        "# tiles = [name.strip() for name in \"\"\"\n",
        "#     OpenStreetMap\n",
        "#     Stamen Terrain\n",
        "#     Stamen Toner\n",
        "#     Stamen Watercolor\n",
        "#     CartoDB positron\n",
        "#     CartoDB dark_matter\"\"\".strip().split(\"\\n\")]\n",
        "    \n",
        "# @interact(latitude = (-90.0, -90.0), longitude =(-180.0, -180.0), tiles = tiles, zoom =(1, 18))\n",
        "\n",
        "# def create_map(latitude = 36, longitude = 127, tiles = \"Stamen Toner\", zoom = 7):\n",
        "#     return folium.Map(location = (latitude, longitude), tiles = tiles, zoom_start = zoom)"
      ]
    },
    {
      "cell_type": "markdown",
      "metadata": {
        "id": "PHLpfn2ZRAI8"
      },
      "source": [
        " ## 참고문헌\n",
        "\n",
        " * https://python-visualization.github.io/folium/"
      ]
    }
  ],
  "metadata": {
    "colab": {
      "provenance": []
    },
    "kernelspec": {
      "display_name": "Python 3",
      "name": "python3"
    },
    "language_info": {
      "codemirror_mode": {
        "name": "ipython",
        "version": 3
      },
      "file_extension": ".py",
      "mimetype": "text/x-python",
      "name": "python",
      "nbconvert_exporter": "python",
      "pygments_lexer": "ipython3",
      "version": "3.11.4"
    }
  },
  "nbformat": 4,
  "nbformat_minor": 0
}
